{
 "cells": [
  {
   "cell_type": "code",
   "execution_count": 9,
   "id": "aa2045dc",
   "metadata": {},
   "outputs": [
    {
     "name": "stdout",
     "output_type": "stream",
     "text": [
      "[ 0.36500754 -0.23378582  0.28506787 -0.20361991]\n",
      "[ 0.36500754 -0.23378582  0.28506787 -0.20361991]\n"
     ]
    }
   ],
   "source": [
    "import numpy as np\n",
    "\n",
    "\n",
    "a=np.array([[2,-1,5,-3],\n",
    "          [4,1,2,-1],\n",
    "          [4,1,-3,-8],[3,6,-1,2]],\n",
    "           float)\n",
    "b=np.array([3,2,2,-1],float)\n",
    "\n",
    "#from scipy.linalg import solve,inv\n",
    "\n",
    "\n",
    "x=np.linalg.solve(a,b)\n",
    "y=np.dot(inv(a),b)\n",
    "print(x)\n",
    "print(y)"
   ]
  },
  {
   "cell_type": "code",
   "execution_count": null,
   "id": "a263fbac",
   "metadata": {},
   "outputs": [],
   "source": []
  }
 ],
 "metadata": {
  "kernelspec": {
   "display_name": "Python 3 (ipykernel)",
   "language": "python",
   "name": "python3"
  },
  "language_info": {
   "codemirror_mode": {
    "name": "ipython",
    "version": 3
   },
   "file_extension": ".py",
   "mimetype": "text/x-python",
   "name": "python",
   "nbconvert_exporter": "python",
   "pygments_lexer": "ipython3",
   "version": "3.10.7"
  }
 },
 "nbformat": 4,
 "nbformat_minor": 5
}
