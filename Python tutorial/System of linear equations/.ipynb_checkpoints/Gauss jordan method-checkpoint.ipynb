{
 "cells": [
  {
   "cell_type": "code",
   "execution_count": 3,
   "id": "1df3f401",
   "metadata": {},
   "outputs": [
    {
     "name": "stdout",
     "output_type": "stream",
     "text": [
      "The solution:\n",
      "[-0.5         1.          0.33333333 -2.        ]\n",
      "The transformed [a]:\n",
      "[[ 1.  0.  0.  0.]\n",
      " [ 0.  1.  0.  0.]\n",
      " [-0. -0.  1.  0.]\n",
      " [-0. -0. -0.  1.]]\n"
     ]
    }
   ],
   "source": [
    "import numpy as np\n",
    "\n",
    "def gssjrdn(a,b):\n",
    "    \n",
    "    a=np.array(a,float)\n",
    "    b=np.array(b,float)\n",
    "    n=len(b)\n",
    "    \n",
    "    # main loop\n",
    "    \n",
    "    for k in range(n):\n",
    "        if np.fabs(a[k,k])<1.0e-12:\n",
    "            for i in range(k+1,n):\n",
    "                if np.fabs(a[i,k])>np.fabs(a[k,k]):\n",
    "                    a[[k,i]]=a[[i,k]]\n",
    "                    b[[k,i]]=b[[i,k]]\n",
    "                    break\n",
    "                    \n",
    "        pivot=a[k,k]\n",
    "        a[k]/=pivot\n",
    "        b[k]/=pivot\n",
    "        \n",
    "        for i in range(n):\n",
    "            if i==k or a[i,k]==0:\n",
    "                continue\n",
    "            factor=a[i,k]\n",
    "            \n",
    "            a[i]-=factor*a[k]\n",
    "            b[i]-=factor*b[k]\n",
    "    return b,a\n",
    "    \n",
    "    \n",
    "a=[[0,2,0,1],[2,2,3,2],[4,-3,0,1],[6,1,-6,-5]]\n",
    "b=[0,-2,-7,6]\n",
    "\n",
    "X,A= gssjrdn(a,b)\n",
    "\n",
    "print(\"The solution:\")\n",
    "print(X)\n",
    "print(\"The transformed [a]:\")\n",
    "print(A)\n",
    "    "
   ]
  },
  {
   "cell_type": "code",
   "execution_count": null,
   "id": "673461c9",
   "metadata": {},
   "outputs": [],
   "source": []
  }
 ],
 "metadata": {
  "kernelspec": {
   "display_name": "Python 3 (ipykernel)",
   "language": "python",
   "name": "python3"
  },
  "language_info": {
   "codemirror_mode": {
    "name": "ipython",
    "version": 3
   },
   "file_extension": ".py",
   "mimetype": "text/x-python",
   "name": "python",
   "nbconvert_exporter": "python",
   "pygments_lexer": "ipython3",
   "version": "3.10.7"
  }
 },
 "nbformat": 4,
 "nbformat_minor": 5
}
