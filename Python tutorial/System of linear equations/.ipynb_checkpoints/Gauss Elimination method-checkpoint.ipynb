{
 "cells": [
  {
   "cell_type": "markdown",
   "id": "d3b3bb2d",
   "metadata": {},
   "source": [
    "# Gauss Elimination method"
   ]
  },
  {
   "cell_type": "code",
   "execution_count": 4,
   "id": "9357fcd4",
   "metadata": {},
   "outputs": [
    {
     "name": "stdout",
     "output_type": "stream",
     "text": [
      "The solution of the system:\n",
      "[0.44444444 0.55555556 0.66666667 0.22222222 0.22222222]\n"
     ]
    }
   ],
   "source": [
    "import numpy as np\n",
    "a=np.array([[2,7,-1,3,1],\n",
    "           [2,3,4,1,7],\n",
    "           [6,2,-3,2,-1],\n",
    "           [2,1,2,-1,2],\n",
    "           [3,4,1,-2,1]],float)\n",
    "\n",
    "b=np.array([5,7,2,3,4],float)\n",
    "\n",
    "n=len(b)\n",
    "x=np.zeros(n,float)\n",
    "\n",
    "#Elimination\n",
    "\n",
    "for k in range(n-1):\n",
    "    for i in range(k+1,n):\n",
    "        fctr=a[k,k]/a[i,k]\n",
    "        b[i]=b[k]-fctr*b[i]\n",
    "        for j in range(k,n):\n",
    "            a[i,j]=a[k,j]-fctr*a[i,j]\n",
    "        \n",
    "            \n",
    "#print(a)\n",
    "#print(b)\n",
    "\n",
    "# Back substitution\n",
    "\n",
    "x[n-1]=b[n-1]/a[n-1,n-1]\n",
    "for i in range(n-2,-1,-1):\n",
    "    terms=0\n",
    "    for j in range(i+1,n):\n",
    "        terms+=a[i,j]*x[j]\n",
    "    x[i]=(b[i]-terms)/a[i,i]\n",
    "    \n",
    "print(\"The solution of the system:\")\n",
    "print(x)"
   ]
  },
  {
   "cell_type": "code",
   "execution_count": 7,
   "id": "14601f50",
   "metadata": {},
   "outputs": [
    {
     "name": "stdout",
     "output_type": "stream",
     "text": [
      "The solution of the system:\n",
      "[0.02170543 0.79224806 1.05116279 0.15813953 0.03100775]\n"
     ]
    }
   ],
   "source": [
    "import numpy as np\n",
    "a=np.array([[0,7,-1,3,1],\n",
    "           [2,3,4,1,7],\n",
    "           [6,2,0,2,-1],\n",
    "           [2,1,2,0,2],\n",
    "           [3,4,1,-2,1]],float)\n",
    "\n",
    "b=np.array([5,7,2,3,4],float)\n",
    "\n",
    "n=len(b)\n",
    "x=np.zeros(n,float)\n",
    "\n",
    "#Elimination\n",
    "\n",
    "for k in range(n-1):\n",
    "    if a[k,k]==0:\n",
    "        for j in range(n):\n",
    "            a[k,j],a[k+1,j]=a[k+1,j],a[k,j]\n",
    "        b[k],b[k+1]=b[k+1],b[k]\n",
    "    for i in range(k+1,n):\n",
    "        if a[i,k]==0:\n",
    "            continue\n",
    "        fctr=a[k,k]/a[i,k]\n",
    "        b[i]=b[k]-fctr*b[i]\n",
    "        for j in range(k,n):\n",
    "            a[i,j]=a[k,j]-fctr*a[i,j]\n",
    "        \n",
    "            \n",
    "#print(a)\n",
    "#print(b)\n",
    "\n",
    "# Back substitution\n",
    "\n",
    "x[n-1]=b[n-1]/a[n-1,n-1]\n",
    "for i in range(n-2,-1,-1):\n",
    "    terms=0\n",
    "    for j in range(i+1,n):\n",
    "        terms+=a[i,j]*x[j]\n",
    "    x[i]=(b[i]-terms)/a[i,i]\n",
    "    \n",
    "print(\"The solution of the system:\")\n",
    "print(x)\n"
   ]
  },
  {
   "cell_type": "code",
   "execution_count": null,
   "id": "36d80cc4",
   "metadata": {},
   "outputs": [],
   "source": []
  }
 ],
 "metadata": {
  "kernelspec": {
   "display_name": "Python 3 (ipykernel)",
   "language": "python",
   "name": "python3"
  },
  "language_info": {
   "codemirror_mode": {
    "name": "ipython",
    "version": 3
   },
   "file_extension": ".py",
   "mimetype": "text/x-python",
   "name": "python",
   "nbconvert_exporter": "python",
   "pygments_lexer": "ipython3",
   "version": "3.10.7"
  }
 },
 "nbformat": 4,
 "nbformat_minor": 5
}
