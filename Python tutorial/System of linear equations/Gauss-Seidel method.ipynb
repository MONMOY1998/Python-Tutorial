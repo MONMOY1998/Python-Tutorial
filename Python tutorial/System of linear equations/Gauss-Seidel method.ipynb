{
 "cells": [
  {
   "cell_type": "code",
   "execution_count": 1,
   "id": "6a35f592",
   "metadata": {},
   "outputs": [
    {
     "name": "stdout",
     "output_type": "stream",
     "text": [
      "Number of iterations: 13 \n",
      "The solution of the system:\n",
      "[ 0.36500739 -0.23378566  0.28506799 -0.20362001]\n"
     ]
    }
   ],
   "source": [
    "import numpy as np\n",
    "a = np.array([[4, 1, 2, -1],\n",
    "           [3, 6, -1, 2],\n",
    "           [2, -1, 5, -3],\n",
    "           [4, 1, -3, -8]],float)\n",
    "b = np.array([2, -1, 3, 2], float)\n",
    "(n,) = np.shape(b)\n",
    "x = np.full(n, 1.0, float) # initial value of x is 1.0\n",
    "xdiff = np.empty(n, float)\n",
    "iterlimit = 100\n",
    "tolerance = 1.0e-6\n",
    "\n",
    "# iterations:\n",
    "for iteration in range(iterlimit):\n",
    "    for i in range(n):\n",
    "        s = 0\n",
    "        for j in range(n):\n",
    "            if j != i:\n",
    "                s += a[i, j]*x[j]\n",
    "        xnew = -1/a[i,i] * (s - b[i])\n",
    "        xdiff[i] = abs(xnew - x[i]) # corrected\n",
    "        x[i] = xnew\n",
    "    if(xdiff < tolerance).all():\n",
    "        break\n",
    "\n",
    "print('Number of iterations: %d '% (iteration+1))\n",
    "print('The solution of the system:')\n",
    "print(x)\n",
    "\n",
    "\n"
   ]
  },
  {
   "cell_type": "code",
   "execution_count": null,
   "id": "551364b2",
   "metadata": {},
   "outputs": [],
   "source": []
  }
 ],
 "metadata": {
  "kernelspec": {
   "display_name": "Python 3 (ipykernel)",
   "language": "python",
   "name": "python3"
  },
  "language_info": {
   "codemirror_mode": {
    "name": "ipython",
    "version": 3
   },
   "file_extension": ".py",
   "mimetype": "text/x-python",
   "name": "python",
   "nbconvert_exporter": "python",
   "pygments_lexer": "ipython3",
   "version": "3.10.7"
  }
 },
 "nbformat": 4,
 "nbformat_minor": 5
}
