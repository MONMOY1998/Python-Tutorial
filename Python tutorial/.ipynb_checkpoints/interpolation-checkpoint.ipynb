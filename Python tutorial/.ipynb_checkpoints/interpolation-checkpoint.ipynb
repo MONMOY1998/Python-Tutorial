{
 "cells": [
  {
   "cell_type": "code",
   "execution_count": 7,
   "id": "a3988238",
   "metadata": {},
   "outputs": [
    {
     "name": "stdout",
     "output_type": "stream",
     "text": [
      "                                              Column1  Column2  Column3  \\\n",
      "0      0.1000000E+00   0.1530000E-01   0.0000000E+...      NaN      NaN   \n",
      "1      0.2000000E+00   0.3060000E-01   0.0000000E+...      NaN      NaN   \n",
      "2      0.3000000E+00   0.4590000E-01   0.0000000E+...      NaN      NaN   \n",
      "3      0.4000000E+00   0.6120000E-01   0.0000000E+...      NaN      NaN   \n",
      "4      0.5000000E+00   0.7650000E-01   0.0000000E+...      NaN      NaN   \n",
      "5      0.6000000E+00   0.9180000E-01   0.0000000E+...      NaN      NaN   \n",
      "6      0.7000000E+00   0.1071000E+00   0.0000000E+...      NaN      NaN   \n",
      "7      0.8000000E+00   0.1224000E+00   0.0000000E+...      NaN      NaN   \n",
      "8      0.9000000E+00   0.1377000E+00   0.0000000E+...      NaN      NaN   \n",
      "9      0.1000000E+01   0.1530000E+00   0.0000000E+...      NaN      NaN   \n",
      "10     0.1100000E+01   0.1683000E+00   0.0000000E+...      NaN      NaN   \n",
      "11     0.1200000E+01   0.1836000E+00   0.0000000E+...      NaN      NaN   \n",
      "12     0.1300000E+01   0.1989000E+00   0.0000000E+...      NaN      NaN   \n",
      "13     0.1400000E+01   0.2142000E+00   0.0000000E+...      NaN      NaN   \n",
      "14     0.1500000E+01   0.2295000E+00   0.0000000E+...      NaN      NaN   \n",
      "15     0.1600000E+01   0.2448000E+00   0.0000000E+...      NaN      NaN   \n",
      "16     0.1700000E+01   0.2601000E+00   0.0000000E+...      NaN      NaN   \n",
      "17     0.1800000E+01   0.2754000E+00   0.0000000E+...      NaN      NaN   \n",
      "18     0.1900000E+01   0.2907000E+00   0.0000000E+...      NaN      NaN   \n",
      "19     0.2000000E+01   0.3060000E+00   0.0000000E+...      NaN      NaN   \n",
      "20     0.2100000E+01   0.3213000E+00   0.0000000E+...      NaN      NaN   \n",
      "21     0.2200000E+01   0.3366000E+00   0.0000000E+...      NaN      NaN   \n",
      "22     0.2300000E+01   0.3519000E+00   0.0000000E+...      NaN      NaN   \n",
      "23     0.2400000E+01   0.3672000E+00   0.0000000E+...      NaN      NaN   \n",
      "24     0.2500000E+01   0.3825000E+00   0.0000000E+...      NaN      NaN   \n",
      "25     0.2600000E+01   0.3978000E+00   0.0000000E+...      NaN      NaN   \n",
      "26     0.2700000E+01   0.4131000E+00   0.0000000E+...      NaN      NaN   \n",
      "27     0.2800000E+01   0.4284000E+00   0.0000000E+...      NaN      NaN   \n",
      "28     0.2900000E+01   0.4437000E+00   0.0000000E+...      NaN      NaN   \n",
      "29     0.3000000E+01   0.4590000E+00   0.0000000E+...      NaN      NaN   \n",
      "30     0.3100000E+01   0.4743000E+00   0.0000000E+...      NaN      NaN   \n",
      "31     0.3200000E+01   0.4896000E+00   0.0000000E+...      NaN      NaN   \n",
      "32     0.3300000E+01   0.5049000E+00   0.0000000E+...      NaN      NaN   \n",
      "33     0.3400000E+01   0.5202000E+00   0.0000000E+...      NaN      NaN   \n",
      "34     0.3500000E+01   0.5355000E+00   0.0000000E+...      NaN      NaN   \n",
      "35     0.3600000E+01   0.5508000E+00   0.0000000E+...      NaN      NaN   \n",
      "36     0.3700000E+01   0.5661000E+00   0.0000000E+...      NaN      NaN   \n",
      "37     0.3800000E+01   0.5814000E+00   0.0000000E+...      NaN      NaN   \n",
      "38     0.3900000E+01   0.5967000E+00   0.0000000E+...      NaN      NaN   \n",
      "39     0.4000000E+01   0.6120000E+00   0.0000000E+...      NaN      NaN   \n",
      "40     0.4100000E+01   0.6273000E+00   0.0000000E+...      NaN      NaN   \n",
      "41     0.4200000E+01   0.6426000E+00   0.0000000E+...      NaN      NaN   \n",
      "42     0.4300000E+01   0.6579000E+00   0.0000000E+...      NaN      NaN   \n",
      "43     0.4400000E+01   0.6732000E+00   0.0000000E+...      NaN      NaN   \n",
      "44     0.4500000E+01   0.6885000E+00   0.0000000E+...      NaN      NaN   \n",
      "45     0.4600000E+01   0.7038000E+00   0.0000000E+...      NaN      NaN   \n",
      "46     0.4700000E+01   0.7191000E+00   0.0000000E+...      NaN      NaN   \n",
      "47     0.4800000E+01   0.7344000E+00   0.0000000E+...      NaN      NaN   \n",
      "48     0.4900000E+01   0.7497000E+00   0.0000000E+...      NaN      NaN   \n",
      "49     0.5000000E+01   0.7650000E+00   0.0000000E+...      NaN      NaN   \n",
      "50     0.5100000E+01   0.7803000E+00   0.0000000E+...      NaN      NaN   \n",
      "51     0.5200000E+01   0.7956000E+00   0.0000000E+...      NaN      NaN   \n",
      "52     0.5300000E+01   0.8109000E+00   0.0000000E+...      NaN      NaN   \n",
      "53     0.5400000E+01   0.8262000E+00   0.0000000E+...      NaN      NaN   \n",
      "54     0.5500000E+01   0.8415000E+00   0.0000000E+...      NaN      NaN   \n",
      "55     0.5600000E+01   0.8568000E+00   0.0000000E+...      NaN      NaN   \n",
      "56     0.5700000E+01   0.8721000E+00   0.0000000E+...      NaN      NaN   \n",
      "57     0.5800000E+01   0.8874000E+00   0.0000000E+...      NaN      NaN   \n",
      "58     0.5900000E+01   0.9027000E+00   0.0000000E+...      NaN      NaN   \n",
      "59     0.6000000E+01   0.9180000E+00   0.0000000E+...      NaN      NaN   \n",
      "60     0.6100000E+01   0.9333000E+00   0.0000000E+...      NaN      NaN   \n",
      "61     0.6200000E+01   0.9486000E+00   0.0000000E+...      NaN      NaN   \n",
      "62     0.6300000E+01   0.9639000E+00   0.0000000E+...      NaN      NaN   \n",
      "63     0.6400000E+01   0.9792000E+00   0.0000000E+...      NaN      NaN   \n",
      "64     0.6500000E+01   0.9945000E+00   0.0000000E+...      NaN      NaN   \n",
      "65     0.6600000E+01   0.1009800E+01   0.0000000E+...      NaN      NaN   \n",
      "66     0.6700000E+01   0.1025100E+01   0.0000000E+...      NaN      NaN   \n",
      "67     0.6800000E+01   0.1040400E+01   0.0000000E+...      NaN      NaN   \n",
      "68     0.6900000E+01   0.1055700E+01   0.0000000E+...      NaN      NaN   \n",
      "69     0.7000000E+01   0.1071000E+01   0.0000000E+...      NaN      NaN   \n",
      "70     0.7100000E+01   0.1086300E+01   0.0000000E+...      NaN      NaN   \n",
      "71     0.7200000E+01   0.1101600E+01   0.0000000E+...      NaN      NaN   \n",
      "72     0.7300000E+01   0.1116900E+01   0.0000000E+...      NaN      NaN   \n",
      "73     0.7400000E+01   0.1132200E+01   0.0000000E+...      NaN      NaN   \n",
      "74     0.7500000E+01   0.1147500E+01   0.0000000E+...      NaN      NaN   \n",
      "75     0.7600000E+01   0.1162800E+01   0.0000000E+...      NaN      NaN   \n",
      "76     0.7700000E+01   0.1178100E+01   0.0000000E+...      NaN      NaN   \n",
      "77     0.7800000E+01   0.1193400E+01   0.0000000E+...      NaN      NaN   \n",
      "78     0.7900000E+01   0.1208700E+01   0.0000000E+...      NaN      NaN   \n",
      "79     0.8000000E+01   0.1224000E+01   0.0000000E+...      NaN      NaN   \n",
      "80     0.8100000E+01   0.1239300E+01   0.0000000E+...      NaN      NaN   \n",
      "81     0.8200000E+01   0.1254600E+01   0.0000000E+...      NaN      NaN   \n",
      "82     0.8300000E+01   0.1269900E+01   0.0000000E+...      NaN      NaN   \n",
      "83     0.8400000E+01   0.1285200E+01   0.0000000E+...      NaN      NaN   \n",
      "84     0.8500000E+01   0.1300500E+01   0.0000000E+...      NaN      NaN   \n",
      "85     0.8600000E+01   0.1315800E+01   0.0000000E+...      NaN      NaN   \n",
      "86     0.8700000E+01   0.1331100E+01   0.0000000E+...      NaN      NaN   \n",
      "87     0.8800000E+01   0.1346400E+01   0.0000000E+...      NaN      NaN   \n",
      "88     0.8900000E+01   0.1361700E+01   0.0000000E+...      NaN      NaN   \n",
      "89     0.9000000E+01   0.1377000E+01   0.0000000E+...      NaN      NaN   \n",
      "90     0.9100000E+01   0.1392300E+01   0.0000000E+...      NaN      NaN   \n",
      "91     0.9200000E+01   0.1407600E+01   0.0000000E+...      NaN      NaN   \n",
      "92     0.9300000E+01   0.1422900E+01   0.0000000E+...      NaN      NaN   \n",
      "93     0.9400000E+01   0.1438200E+01   0.0000000E+...      NaN      NaN   \n",
      "94     0.9500000E+01   0.1453500E+01   0.0000000E+...      NaN      NaN   \n",
      "95     0.9600000E+01   0.1468800E+01   0.0000000E+...      NaN      NaN   \n",
      "96     0.9700000E+01   0.1484100E+01   0.0000000E+...      NaN      NaN   \n",
      "97     0.9800000E+01   0.1499400E+01   0.0000000E+...      NaN      NaN   \n",
      "98     0.9900000E+01   0.1514700E+01   0.0000000E+...      NaN      NaN   \n",
      "99     0.1000000E+02   0.1530000E+01   0.0000000E+...      NaN      NaN   \n",
      "\n",
      "    Column4  Column5  \n",
      "0       NaN      NaN  \n",
      "1       NaN      NaN  \n",
      "2       NaN      NaN  \n",
      "3       NaN      NaN  \n",
      "4       NaN      NaN  \n",
      "5       NaN      NaN  \n",
      "6       NaN      NaN  \n",
      "7       NaN      NaN  \n",
      "8       NaN      NaN  \n",
      "9       NaN      NaN  \n",
      "10      NaN      NaN  \n",
      "11      NaN      NaN  \n",
      "12      NaN      NaN  \n",
      "13      NaN      NaN  \n",
      "14      NaN      NaN  \n",
      "15      NaN      NaN  \n",
      "16      NaN      NaN  \n",
      "17      NaN      NaN  \n",
      "18      NaN      NaN  \n",
      "19      NaN      NaN  \n",
      "20      NaN      NaN  \n",
      "21      NaN      NaN  \n",
      "22      NaN      NaN  \n",
      "23      NaN      NaN  \n",
      "24      NaN      NaN  \n",
      "25      NaN      NaN  \n",
      "26      NaN      NaN  \n",
      "27      NaN      NaN  \n",
      "28      NaN      NaN  \n",
      "29      NaN      NaN  \n",
      "30      NaN      NaN  \n",
      "31      NaN      NaN  \n",
      "32      NaN      NaN  \n",
      "33      NaN      NaN  \n",
      "34      NaN      NaN  \n",
      "35      NaN      NaN  \n",
      "36      NaN      NaN  \n",
      "37      NaN      NaN  \n",
      "38      NaN      NaN  \n",
      "39      NaN      NaN  \n",
      "40      NaN      NaN  \n",
      "41      NaN      NaN  \n",
      "42      NaN      NaN  \n",
      "43      NaN      NaN  \n",
      "44      NaN      NaN  \n",
      "45      NaN      NaN  \n",
      "46      NaN      NaN  \n",
      "47      NaN      NaN  \n",
      "48      NaN      NaN  \n",
      "49      NaN      NaN  \n",
      "50      NaN      NaN  \n",
      "51      NaN      NaN  \n",
      "52      NaN      NaN  \n",
      "53      NaN      NaN  \n",
      "54      NaN      NaN  \n",
      "55      NaN      NaN  \n",
      "56      NaN      NaN  \n",
      "57      NaN      NaN  \n",
      "58      NaN      NaN  \n",
      "59      NaN      NaN  \n",
      "60      NaN      NaN  \n",
      "61      NaN      NaN  \n",
      "62      NaN      NaN  \n",
      "63      NaN      NaN  \n",
      "64      NaN      NaN  \n",
      "65      NaN      NaN  \n",
      "66      NaN      NaN  \n",
      "67      NaN      NaN  \n",
      "68      NaN      NaN  \n",
      "69      NaN      NaN  \n",
      "70      NaN      NaN  \n",
      "71      NaN      NaN  \n",
      "72      NaN      NaN  \n",
      "73      NaN      NaN  \n",
      "74      NaN      NaN  \n",
      "75      NaN      NaN  \n",
      "76      NaN      NaN  \n",
      "77      NaN      NaN  \n",
      "78      NaN      NaN  \n",
      "79      NaN      NaN  \n",
      "80      NaN      NaN  \n",
      "81      NaN      NaN  \n",
      "82      NaN      NaN  \n",
      "83      NaN      NaN  \n",
      "84      NaN      NaN  \n",
      "85      NaN      NaN  \n",
      "86      NaN      NaN  \n",
      "87      NaN      NaN  \n",
      "88      NaN      NaN  \n",
      "89      NaN      NaN  \n",
      "90      NaN      NaN  \n",
      "91      NaN      NaN  \n",
      "92      NaN      NaN  \n",
      "93      NaN      NaN  \n",
      "94      NaN      NaN  \n",
      "95      NaN      NaN  \n",
      "96      NaN      NaN  \n",
      "97      NaN      NaN  \n",
      "98      NaN      NaN  \n",
      "99      NaN      NaN  \n"
     ]
    }
   ],
   "source": [
    "import pandas as pd\n",
    "pd.set_option('display.max_rows', None)\n",
    "pd.set_option('display.max_columns', None)\n",
    "\n",
    "# Step 1: Read the DAT file\n",
    "\n",
    "# Assuming the file is tab-separated, change the delimiter if it's different\n",
    "data = pd.read_csv(\"D:\\\\DEBADES SIR;S PAPERS\\\\FORTRAN TOV Code\\\\aghto300m0.7.dat\", delimiter='\\t', header=None,names=['Column1', 'Column2', 'Column3', 'Column4', 'Column5'])\n",
    "\n",
    "df=pd.DataFrame(data)\n",
    "print(df)\n"
   ]
  },
  {
   "cell_type": "code",
   "execution_count": 6,
   "id": "40ce7946",
   "metadata": {},
   "outputs": [
    {
     "name": "stdout",
     "output_type": "stream",
     "text": [
      "Enter value of x:50\n",
      "For x=50.0, y=66.9\n"
     ]
    }
   ],
   "source": [
    "x=[0,20,40,60,80,100]\n",
    "y=[26.0,48.6,61.6,71.2,74.8,75.2]\n",
    "\n",
    "m=len(x)\n",
    "n=m-1\n",
    "\n",
    "yp=0\n",
    "xp=float(input(\"Enter value of x:\"))\n",
    "\n",
    "for i in range(n+1):\n",
    "    L=1\n",
    "    for j in range(n+1):\n",
    "        if j!=i:\n",
    "            L*=(xp-x[j])/(x[i]-x[j])\n",
    "    yp+=y[i]*L\n",
    "\n",
    "print(\"For x=%.1f, y=%.1f\" % (xp,yp))"
   ]
  },
  {
   "cell_type": "code",
   "execution_count": 2,
   "id": "65aec787",
   "metadata": {},
   "outputs": [
    {
     "name": "stdout",
     "output_type": "stream",
     "text": [
      "48.6\n",
      "66.4\n"
     ]
    }
   ],
   "source": [
    "from scipy.interpolate import interp1d,lagrange\n",
    "x=[0,20,40,60,80,100]\n",
    "y=[26.0,48.6,61.6,71.2,74.8,75.2]\n",
    "\n",
    "f=interp1d(x,y)\n",
    "\n",
    "print(f(20))\n",
    "print(f(50))\n",
    "\n"
   ]
  },
  {
   "cell_type": "code",
   "execution_count": 3,
   "id": "b735468a",
   "metadata": {},
   "outputs": [
    {
     "name": "stdout",
     "output_type": "stream",
     "text": [
      "66.95208333333332\n"
     ]
    }
   ],
   "source": [
    "f=interp1d(x,y,\"quadratic\")\n",
    "print(f(50))"
   ]
  },
  {
   "cell_type": "code",
   "execution_count": 4,
   "id": "d6a6b166",
   "metadata": {},
   "outputs": [
    {
     "name": "stdout",
     "output_type": "stream",
     "text": [
      "66.945\n"
     ]
    }
   ],
   "source": [
    "f1=interp1d(x,y,\"cubic\")\n",
    "print(f1(50))"
   ]
  },
  {
   "cell_type": "code",
   "execution_count": 5,
   "id": "6d93a15a",
   "metadata": {},
   "outputs": [
    {
     "name": "stdout",
     "output_type": "stream",
     "text": [
      "           5             4             3           2\n",
      "3.698e-08 x - 9.688e-06 x + 0.0009219 x - 0.04463 x + 1.725 x + 26\n"
     ]
    }
   ],
   "source": [
    "L=lagrange(x,y)\n",
    "print(L)"
   ]
  },
  {
   "cell_type": "code",
   "execution_count": 6,
   "id": "1852afde",
   "metadata": {},
   "outputs": [
    {
     "data": {
      "text/plain": [
       "66.94765624999957"
      ]
     },
     "execution_count": 6,
     "metadata": {},
     "output_type": "execute_result"
    }
   ],
   "source": [
    "L(50)"
   ]
  },
  {
   "cell_type": "code",
   "execution_count": 9,
   "id": "71bc2092",
   "metadata": {},
   "outputs": [
    {
     "name": "stdout",
     "output_type": "stream",
     "text": [
      "Given x value is out of range\n",
      "Given x value is out of range\n",
      "Given x value is out of range\n",
      "the temperature = 66.400000\n"
     ]
    }
   ],
   "source": [
    "time=[0,20,40,60,80,100]\n",
    "temp=[26.0,48.6,61.6,71.2,74.8,75.2]\n",
    "\n",
    "def y(xp,x,y):\n",
    "    for i,xi in enumerate(x):\n",
    "        if xp<xi:\n",
    "            return y[i-1]+((y[i]-y[i-1])/(x[i]-x[i-1])*(xp-x[i-1]))\n",
    "        else:\n",
    "            print(\"Given x value is out of range\")\n",
    "            \n",
    "temp50=y(50,time,temp)\n",
    "print(\"the temperature = %f\" % temp50)"
   ]
  },
  {
   "cell_type": "code",
   "execution_count": null,
   "id": "49c0a196",
   "metadata": {},
   "outputs": [],
   "source": []
  }
 ],
 "metadata": {
  "kernelspec": {
   "display_name": "Python 3 (ipykernel)",
   "language": "python",
   "name": "python3"
  },
  "language_info": {
   "codemirror_mode": {
    "name": "ipython",
    "version": 3
   },
   "file_extension": ".py",
   "mimetype": "text/x-python",
   "name": "python",
   "nbconvert_exporter": "python",
   "pygments_lexer": "ipython3",
   "version": "3.10.7"
  }
 },
 "nbformat": 4,
 "nbformat_minor": 5
}
