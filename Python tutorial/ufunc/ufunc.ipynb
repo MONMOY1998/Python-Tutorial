{
 "cells": [
  {
   "cell_type": "code",
   "execution_count": 2,
   "id": "48179577",
   "metadata": {},
   "outputs": [
    {
     "name": "stdout",
     "output_type": "stream",
     "text": [
      "[5, 7, 9, 11]\n"
     ]
    }
   ],
   "source": [
    "import numpy as np\n",
    "x=[1,2,3,4]\n",
    "y=[4,5,6,7]\n",
    "z=[]\n",
    "for i,j in zip(x,y):\n",
    "    z.append(i+j)\n",
    "print(z)"
   ]
  },
  {
   "cell_type": "code",
   "execution_count": 3,
   "id": "20fba0f6",
   "metadata": {},
   "outputs": [
    {
     "name": "stdout",
     "output_type": "stream",
     "text": [
      "[ 5  7  9 11]\n"
     ]
    }
   ],
   "source": [
    "import numpy as np\n",
    "x=[1,2,3,4]\n",
    "y=[4,5,6,7]\n",
    "z=np.add(x,y)\n",
    "print(z)"
   ]
  },
  {
   "cell_type": "code",
   "execution_count": 7,
   "id": "cb999a0a",
   "metadata": {},
   "outputs": [
    {
     "name": "stdout",
     "output_type": "stream",
     "text": [
      "[15 18 21 24]\n"
     ]
    }
   ],
   "source": [
    "import numpy as np\n",
    "def myadd(x,y,z):\n",
    "    return x+y+z\n",
    "myadd=np.frompyfunc(myadd,3,1)\n",
    "print(myadd([1,2,3,4],[5,6,7,8],[9,10,11,12]))"
   ]
  },
  {
   "cell_type": "code",
   "execution_count": 12,
   "id": "078f7f79",
   "metadata": {},
   "outputs": [
    {
     "name": "stdout",
     "output_type": "stream",
     "text": [
      "[30 48 39 52 42 60]\n",
      "[-10 -24 -13 -26 -14 -30]\n",
      "[200 432 338 507 392 675]\n",
      "[2. 3. 2. 3. 2. 3.]\n",
      "[  10  144 2197 2197  196  225]\n"
     ]
    }
   ],
   "source": [
    "import numpy as np\n",
    "arr1=np.array([10,12,13,13,14,15])\n",
    "arr2=np.array([20,36,26,39,28,45])\n",
    "arr3=np.array([1,2,3,3,2,2])\n",
    "newarr=np.add(arr1,arr2)\n",
    "newarr1=np.subtract(arr1,arr2)\n",
    "newarr2=np.multiply(arr1,arr2)\n",
    "newarr3=np.divide(arr2,arr1)\n",
    "newarr4=np.power(arr1,arr3)\n",
    "print(newarr)\n",
    "print(newarr1)\n",
    "\n",
    "print(newarr2)\n",
    "print(newarr3)\n",
    "print(newarr4)"
   ]
  },
  {
   "cell_type": "code",
   "execution_count": 13,
   "id": "a1adc407",
   "metadata": {},
   "outputs": [
    {
     "name": "stdout",
     "output_type": "stream",
     "text": [
      "[10 12 13 13 14 15]\n"
     ]
    }
   ],
   "source": [
    "import numpy as np\n",
    "arr=np.array([-10,12,-13,13,14,-15])\n",
    "newarr=np.absolute(arr)\n",
    "print(newarr)"
   ]
  },
  {
   "cell_type": "code",
   "execution_count": 16,
   "id": "b4b7803b",
   "metadata": {},
   "outputs": [
    {
     "name": "stdout",
     "output_type": "stream",
     "text": [
      "[-3.  3.]\n"
     ]
    }
   ],
   "source": [
    "import numpy as np\n",
    "arr=np.trunc([-3.8666,3.9667])\n",
    "print(arr)"
   ]
  },
  {
   "cell_type": "code",
   "execution_count": 17,
   "id": "dd1f34ee",
   "metadata": {},
   "outputs": [
    {
     "name": "stdout",
     "output_type": "stream",
     "text": [
      "[-3.  3.]\n"
     ]
    }
   ],
   "source": [
    "import numpy as np\n",
    "arr=np.fix([-3.8666,3.9667])\n",
    "print(arr)"
   ]
  },
  {
   "cell_type": "code",
   "execution_count": 18,
   "id": "e80983b3",
   "metadata": {},
   "outputs": [
    {
     "name": "stdout",
     "output_type": "stream",
     "text": [
      "[-4.  4.  3.]\n"
     ]
    }
   ],
   "source": [
    "import numpy as np\n",
    "arr=np.around([-3.5666,3.9667,3.4122])\n",
    "print(arr)"
   ]
  },
  {
   "cell_type": "code",
   "execution_count": 20,
   "id": "f541302e",
   "metadata": {},
   "outputs": [
    {
     "name": "stdout",
     "output_type": "stream",
     "text": [
      "[-4.  3. -4.]\n"
     ]
    }
   ],
   "source": [
    "import numpy as np\n",
    "arr=np.floor([-3.5666,3.9667,-3.4122])\n",
    "print(arr)"
   ]
  },
  {
   "cell_type": "code",
   "execution_count": 21,
   "id": "88a43d14",
   "metadata": {},
   "outputs": [
    {
     "name": "stdout",
     "output_type": "stream",
     "text": [
      "[-3.  4. -3.]\n"
     ]
    }
   ],
   "source": [
    "import numpy as np\n",
    "arr=np.ceil([-3.5666,3.9667,-3.4122])\n",
    "print(arr)"
   ]
  },
  {
   "cell_type": "code",
   "execution_count": 28,
   "id": "732dd688",
   "metadata": {},
   "outputs": [
    {
     "name": "stdout",
     "output_type": "stream",
     "text": [
      "[1 2 3 4 5 6 7 8 9]\n",
      "[0.         0.30103    0.47712125 0.60205999 0.69897    0.77815125\n",
      " 0.84509804 0.90308999 0.95424251]\n",
      "[0.         0.69314718 1.09861229 1.38629436 1.60943791 1.79175947\n",
      " 1.94591015 2.07944154 2.19722458]\n"
     ]
    }
   ],
   "source": [
    "import numpy as np\n",
    "x=np.arange(1,10)\n",
    "y=np.log10(x)\n",
    "z=np.log(x)\n",
    "#z=np.linspace(1,10,1)\n",
    "print(x)\n",
    "print(y)\n",
    "print(z)"
   ]
  },
  {
   "cell_type": "code",
   "execution_count": 29,
   "id": "9b6de700",
   "metadata": {},
   "outputs": [
    {
     "name": "stdout",
     "output_type": "stream",
     "text": [
      "1.7005483074552052\n"
     ]
    }
   ],
   "source": [
    "from math import log\n",
    "import numpy as np\n",
    "\n",
    "nplog=np.frompyfunc(log,2,1)\n",
    "print(nplog(100,15))"
   ]
  },
  {
   "cell_type": "code",
   "execution_count": 30,
   "id": "997f98ad",
   "metadata": {},
   "outputs": [
    {
     "name": "stdout",
     "output_type": "stream",
     "text": [
      "271\n"
     ]
    }
   ],
   "source": [
    "import numpy as np\n",
    "arr1=np.array([10,12,13,13,14,15])\n",
    "arr2=np.array([20,36,26,39,28,45])\n",
    "newarr=np.sum([arr1,arr2])\n",
    "print(newarr)"
   ]
  },
  {
   "cell_type": "code",
   "execution_count": 31,
   "id": "602338f3",
   "metadata": {},
   "outputs": [
    {
     "name": "stdout",
     "output_type": "stream",
     "text": [
      "[ 77 194]\n"
     ]
    }
   ],
   "source": [
    "import numpy as np\n",
    "arr1=np.array([10,12,13,13,14,15])\n",
    "arr2=np.array([20,36,26,39,28,45])\n",
    "newarr=np.sum([arr1,arr2],axis=1)\n",
    "print(newarr)"
   ]
  },
  {
   "cell_type": "code",
   "execution_count": 32,
   "id": "1e22fc46",
   "metadata": {},
   "outputs": [
    {
     "name": "stdout",
     "output_type": "stream",
     "text": [
      "[10 22 35 48 62 77]\n"
     ]
    }
   ],
   "source": [
    "import numpy as np\n",
    "arr1=np.array([10,12,13,13,14,15])\n",
    "newarr=np.cumsum(arr1)\n",
    "print(newarr)"
   ]
  },
  {
   "cell_type": "code",
   "execution_count": 33,
   "id": "ff1e2141",
   "metadata": {},
   "outputs": [
    {
     "name": "stdout",
     "output_type": "stream",
     "text": [
      "24\n"
     ]
    }
   ],
   "source": [
    "import numpy as np\n",
    "arr=np.array([1,2,3,4])\n",
    "x=np.product(arr)\n",
    "print(x)"
   ]
  },
  {
   "cell_type": "code",
   "execution_count": 34,
   "id": "f1723c46",
   "metadata": {},
   "outputs": [
    {
     "name": "stdout",
     "output_type": "stream",
     "text": [
      "1928124416\n"
     ]
    }
   ],
   "source": [
    "import numpy as np\n",
    "arr1=np.array([10,12,13,13,14,15])\n",
    "arr2=np.array([20,36,26,39,28,45])\n",
    "newarr=np.product([arr1,arr2])\n",
    "print(newarr)"
   ]
  },
  {
   "cell_type": "code",
   "execution_count": 36,
   "id": "15c668d6",
   "metadata": {},
   "outputs": [
    {
     "name": "stdout",
     "output_type": "stream",
     "text": [
      "[  4258800 919900800]\n"
     ]
    }
   ],
   "source": [
    "import numpy as np\n",
    "arr1=np.array([10,12,13,13,14,15])\n",
    "arr2=np.array([20,36,26,39,28,45])\n",
    "newarr=np.product([arr1,arr2],axis=1)\n",
    "print(newarr)"
   ]
  },
  {
   "cell_type": "code",
   "execution_count": 37,
   "id": "b55f86c3",
   "metadata": {},
   "outputs": [
    {
     "name": "stdout",
     "output_type": "stream",
     "text": [
      "[   7   56  504 5040]\n"
     ]
    }
   ],
   "source": [
    "import numpy as np\n",
    "arr1=np.array([7,8,9,10])\n",
    "\n",
    "newarr=np.cumprod(arr1)\n",
    "print(newarr)"
   ]
  },
  {
   "cell_type": "code",
   "execution_count": 39,
   "id": "a7bcc4d1",
   "metadata": {},
   "outputs": [
    {
     "name": "stdout",
     "output_type": "stream",
     "text": [
      "[  6  27 -20]\n"
     ]
    }
   ],
   "source": [
    "import numpy as np\n",
    "arr1=np.array([7,13,40,20])\n",
    "\n",
    "newarr=np.diff(arr1)\n",
    "print(newarr)"
   ]
  },
  {
   "cell_type": "code",
   "execution_count": 40,
   "id": "9cf21bdf",
   "metadata": {},
   "outputs": [
    {
     "name": "stdout",
     "output_type": "stream",
     "text": [
      "[ 21 -47]\n"
     ]
    }
   ],
   "source": [
    "import numpy as np\n",
    "arr1=np.array([7,13,40,20])\n",
    "\n",
    "newarr=np.diff(arr1,n=2)\n",
    "print(newarr)"
   ]
  },
  {
   "cell_type": "code",
   "execution_count": 41,
   "id": "63f3f74c",
   "metadata": {},
   "outputs": [
    {
     "name": "stdout",
     "output_type": "stream",
     "text": [
      "12\n"
     ]
    }
   ],
   "source": [
    "import numpy as np\n",
    "num1=4\n",
    "num2=6\n",
    "x=np.lcm(num1,num2)\n",
    "print(x)"
   ]
  },
  {
   "cell_type": "code",
   "execution_count": 42,
   "id": "5c4c6404",
   "metadata": {},
   "outputs": [
    {
     "name": "stdout",
     "output_type": "stream",
     "text": [
      "18\n"
     ]
    }
   ],
   "source": [
    "import numpy as np\n",
    "arr1=np.array([3,6,9])\n",
    "\n",
    "newarr=np.lcm.reduce(arr1)\n",
    "print(newarr)"
   ]
  },
  {
   "cell_type": "code",
   "execution_count": 43,
   "id": "5334d15d",
   "metadata": {},
   "outputs": [
    {
     "name": "stdout",
     "output_type": "stream",
     "text": [
      "3\n"
     ]
    }
   ],
   "source": [
    "import numpy as np\n",
    "num1=6\n",
    "num2=9\n",
    "x=np.gcd(num1,num2)\n",
    "print(x)"
   ]
  },
  {
   "cell_type": "code",
   "execution_count": 44,
   "id": "4d61af0a",
   "metadata": {},
   "outputs": [
    {
     "name": "stdout",
     "output_type": "stream",
     "text": [
      "4\n"
     ]
    }
   ],
   "source": [
    "import numpy as np\n",
    "arr1=np.array([20,8,32,36,16])\n",
    "\n",
    "newarr=np.gcd.reduce(arr1)\n",
    "print(newarr)"
   ]
  },
  {
   "cell_type": "code",
   "execution_count": null,
   "id": "8a2044fc",
   "metadata": {},
   "outputs": [],
   "source": []
  }
 ],
 "metadata": {
  "kernelspec": {
   "display_name": "Python 3 (ipykernel)",
   "language": "python",
   "name": "python3"
  },
  "language_info": {
   "codemirror_mode": {
    "name": "ipython",
    "version": 3
   },
   "file_extension": ".py",
   "mimetype": "text/x-python",
   "name": "python",
   "nbconvert_exporter": "python",
   "pygments_lexer": "ipython3",
   "version": "3.10.7"
  }
 },
 "nbformat": 4,
 "nbformat_minor": 5
}
