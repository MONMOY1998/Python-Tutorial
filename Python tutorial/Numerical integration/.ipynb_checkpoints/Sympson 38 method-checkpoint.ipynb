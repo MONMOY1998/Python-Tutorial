{
 "cells": [
  {
   "cell_type": "markdown",
   "id": "5afa6155",
   "metadata": {},
   "source": [
    "# Integration using Simpson 3/8 method"
   ]
  },
  {
   "cell_type": "code",
   "execution_count": 3,
   "id": "26bde8ce",
   "metadata": {},
   "outputs": [
    {
     "name": "stdout",
     "output_type": "stream",
     "text": [
      "Lower limit of integration=0\n",
      "Upper limit of integration=6\n",
      "No.of strips=6\n",
      "The approximate value of Integration = 3.2991454807609544\n",
      "5.0\n"
     ]
    }
   ],
   "source": [
    "import math\n",
    "\n",
    "\n",
    "\n",
    "def f(x):\n",
    "    return 1/math.sqrt(1+x)\n",
    "\n",
    "a=float(input(\"Lower limit of integration=\"))\n",
    "b=float(input(\"Upper limit of integration=\"))\n",
    "n=int(input(\"No.of strips=\"))\n",
    "\n",
    "h=(b-a)/n\n",
    "\n",
    "k=1\n",
    "sum=0\n",
    "\n",
    "while k<n:\n",
    "    x=a+k*h\n",
    "    if k%3==0:\n",
    "        sum=sum+2*(f(x))\n",
    "    else:\n",
    "        sum=sum+3*f(x)\n",
    "    k=k+1\n",
    "    \n",
    "int_a=((3*h)/8)*((f(a)+f(b))+sum)\n",
    "\n",
    "print(\"The approximate value of Integration =\",int_a)\n",
    "print(x)\n",
    "    "
   ]
  },
  {
   "cell_type": "code",
   "execution_count": null,
   "id": "cc31d62a",
   "metadata": {},
   "outputs": [],
   "source": [
    "import math\n",
    "\n",
    "\n",
    "def f(x):\n",
    "    return 1/((1+x)**(1/2))\n",
    "\n",
    "a=float(input(\"Lower limit of integration=\"))\n",
    "b=float(input(\"Upper limit of integration=\"))\n",
    "n=int(input(\"No.of strips=\"))\n",
    "\n",
    "\n",
    "import sympy as sy\n",
    "\n",
    "x = sy.symbols(\"x\")  # Use symbols() instead of symbol()\n",
    "int_e = sy.integrate(f(x), (x, 0, 6))\n",
    "print(\"Value of exact Integration =\", int_e)"
   ]
  },
  {
   "cell_type": "code",
   "execution_count": 18,
   "id": "30e31582",
   "metadata": {},
   "outputs": [
    {
     "name": "stdout",
     "output_type": "stream",
     "text": [
      "Lower limit of integration=0\n",
      "Upper limit of integration=1\n",
      "No.of points=101\n",
      "the value of integral is 0.312703125\n",
      "[0.   0.01 0.02 0.03 0.04 0.05 0.06 0.07 0.08 0.09 0.1  0.11 0.12 0.13\n",
      " 0.14 0.15 0.16 0.17 0.18 0.19 0.2  0.21 0.22 0.23 0.24 0.25 0.26 0.27\n",
      " 0.28 0.29 0.3  0.31 0.32 0.33 0.34 0.35 0.36 0.37 0.38 0.39 0.4  0.41\n",
      " 0.42 0.43 0.44 0.45 0.46 0.47 0.48 0.49 0.5  0.51 0.52 0.53 0.54 0.55\n",
      " 0.56 0.57 0.58 0.59 0.6  0.61 0.62 0.63 0.64 0.65 0.66 0.67 0.68 0.69\n",
      " 0.7  0.71 0.72 0.73 0.74 0.75 0.76 0.77 0.78 0.79 0.8  0.81 0.82 0.83\n",
      " 0.84 0.85 0.86 0.87 0.88 0.89 0.9  0.91 0.92 0.93 0.94 0.95 0.96 0.97\n",
      " 0.98 0.99 1.  ] 0.01\n"
     ]
    }
   ],
   "source": [
    "import math\n",
    "import numpy as np\n",
    "\n",
    "\n",
    "\n",
    "a=float(input(\"Lower limit of integration=\"))\n",
    "b=float(input(\"Upper limit of integration=\"))\n",
    "n=int(input(\"No.of points=\"))\n",
    "\n",
    "x,h=np.linspace(a,b,n,retstep=True)\n",
    "\n",
    "y=x**2\n",
    "\n",
    "\n",
    "\n",
    "\n",
    "\n",
    "I= (3 * h / 8) * (y[0] + 3 * np.sum(y[1:-1:3]) + 3 * np.sum(y[2:-3:3]) + 2 *np.sum(y[3:-3:3]) + y[-1])\n",
    "\n",
    "\n",
    "print(\"the value of integral is\",I)\n",
    "print(x,h)\n",
    "\n",
    "\n"
   ]
  },
  {
   "cell_type": "markdown",
   "id": "44745d13",
   "metadata": {},
   "source": [
    "without numpy\n"
   ]
  },
  {
   "cell_type": "code",
   "execution_count": null,
   "id": "bea47f87",
   "metadata": {},
   "outputs": [],
   "source": []
  },
  {
   "cell_type": "code",
   "execution_count": 23,
   "id": "8ba3943d",
   "metadata": {},
   "outputs": [
    {
     "name": "stdout",
     "output_type": "stream",
     "text": [
      "Lower limit of integration=0\n",
      "Upper limit of integration=1\n",
      "No.of points=100\n"
     ]
    },
    {
     "ename": "TypeError",
     "evalue": "'float' object is not callable",
     "output_type": "error",
     "traceback": [
      "\u001b[1;31m---------------------------------------------------------------------------\u001b[0m",
      "\u001b[1;31mTypeError\u001b[0m                                 Traceback (most recent call last)",
      "Cell \u001b[1;32mIn[23], line 10\u001b[0m\n\u001b[0;32m      7\u001b[0m h \u001b[38;5;241m=\u001b[39m (b \u001b[38;5;241m-\u001b[39m a) \u001b[38;5;241m/\u001b[39m n\n\u001b[0;32m      9\u001b[0m \u001b[38;5;66;03m# Avoid using 'sum' as a variable name to prevent conflicts with the built-in 'sum' function\u001b[39;00m\n\u001b[1;32m---> 10\u001b[0m s_divisible \u001b[38;5;241m=\u001b[39m \u001b[38;5;241m2\u001b[39m \u001b[38;5;241m*\u001b[39m \u001b[38;5;28;43msum\u001b[39;49m\u001b[43m(\u001b[49m\u001b[43m[\u001b[49m\u001b[43mf\u001b[49m\u001b[43m(\u001b[49m\u001b[43ma\u001b[49m\u001b[43m \u001b[49m\u001b[38;5;241;43m+\u001b[39;49m\u001b[43m \u001b[49m\u001b[43mi\u001b[49m\u001b[43m \u001b[49m\u001b[38;5;241;43m*\u001b[39;49m\u001b[43m \u001b[49m\u001b[43mh\u001b[49m\u001b[43m)\u001b[49m\u001b[43m \u001b[49m\u001b[38;5;28;43;01mfor\u001b[39;49;00m\u001b[43m \u001b[49m\u001b[43mi\u001b[49m\u001b[43m \u001b[49m\u001b[38;5;129;43;01min\u001b[39;49;00m\u001b[43m \u001b[49m\u001b[38;5;28;43mrange\u001b[39;49m\u001b[43m(\u001b[49m\u001b[38;5;241;43m3\u001b[39;49m\u001b[43m,\u001b[49m\u001b[43m \u001b[49m\u001b[43mn\u001b[49m\u001b[43m \u001b[49m\u001b[38;5;241;43m-\u001b[39;49m\u001b[43m \u001b[49m\u001b[38;5;241;43m1\u001b[39;49m\u001b[43m,\u001b[49m\u001b[43m \u001b[49m\u001b[38;5;241;43m3\u001b[39;49m\u001b[43m)\u001b[49m\u001b[43m]\u001b[49m\u001b[43m)\u001b[49m\n\u001b[0;32m     11\u001b[0m s_nondivisible_1 \u001b[38;5;241m=\u001b[39m \u001b[38;5;241m3\u001b[39m \u001b[38;5;241m*\u001b[39m \u001b[38;5;28msum\u001b[39m([f(a \u001b[38;5;241m+\u001b[39m i \u001b[38;5;241m*\u001b[39m h) \u001b[38;5;28;01mfor\u001b[39;00m i \u001b[38;5;129;01min\u001b[39;00m \u001b[38;5;28mrange\u001b[39m(\u001b[38;5;241m1\u001b[39m, n, \u001b[38;5;241m3\u001b[39m)])\n\u001b[0;32m     12\u001b[0m s_nondivisible_2 \u001b[38;5;241m=\u001b[39m \u001b[38;5;241m3\u001b[39m \u001b[38;5;241m*\u001b[39m \u001b[38;5;28msum\u001b[39m([f(a \u001b[38;5;241m+\u001b[39m i \u001b[38;5;241m*\u001b[39m h) \u001b[38;5;28;01mfor\u001b[39;00m i \u001b[38;5;129;01min\u001b[39;00m \u001b[38;5;28mrange\u001b[39m(\u001b[38;5;241m2\u001b[39m, n \u001b[38;5;241m-\u001b[39m \u001b[38;5;241m2\u001b[39m, \u001b[38;5;241m3\u001b[39m)])\n",
      "\u001b[1;31mTypeError\u001b[0m: 'float' object is not callable"
     ]
    }
   ],
   "source": [
    "def f(x):\n",
    "    return x**2\n",
    "\n",
    "a=float(input(\"Lower limit of integration=\"))\n",
    "b=float(input(\"Upper limit of integration=\"))\n",
    "n=int(input(\"No.of points=\"))\n",
    "h = (b - a) / n\n",
    "\n",
    "# Avoid using 'sum' as a variable name to prevent conflicts with the built-in 'sum' function\n",
    "s_divisible = 2 * sum([f(a + i * h) for i in range(3, n - 1, 3)])\n",
    "s_nondivisible_1 = 3 * sum([f(a + i * h) for i in range(1, n, 3)])\n",
    "s_nondivisible_2 = 3 * sum([f(a + i * h) for i in range(2, n - 2, 3)])\n",
    "\n",
    "I = (3 * h / 8) * ((f(a) + f(b)) + s_divisible + s_nondivisible_1 + s_nondivisible_2)\n",
    "\n",
    "print(\"The integral result is\", I)\n"
   ]
  },
  {
   "cell_type": "code",
   "execution_count": null,
   "id": "3e6f351f",
   "metadata": {},
   "outputs": [],
   "source": []
  }
 ],
 "metadata": {
  "kernelspec": {
   "display_name": "Python 3 (ipykernel)",
   "language": "python",
   "name": "python3"
  },
  "language_info": {
   "codemirror_mode": {
    "name": "ipython",
    "version": 3
   },
   "file_extension": ".py",
   "mimetype": "text/x-python",
   "name": "python",
   "nbconvert_exporter": "python",
   "pygments_lexer": "ipython3",
   "version": "3.10.7"
  }
 },
 "nbformat": 4,
 "nbformat_minor": 5
}
