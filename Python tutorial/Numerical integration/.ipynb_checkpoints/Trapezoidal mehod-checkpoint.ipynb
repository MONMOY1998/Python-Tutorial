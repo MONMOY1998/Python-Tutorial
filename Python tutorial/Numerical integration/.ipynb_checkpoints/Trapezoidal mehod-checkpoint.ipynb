{
 "cells": [
  {
   "cell_type": "markdown",
   "id": "713ec3dd",
   "metadata": {},
   "source": [
    "# The Trapezoidal method of Integration"
   ]
  },
  {
   "cell_type": "code",
   "execution_count": null,
   "id": "d5138151",
   "metadata": {},
   "outputs": [],
   "source": [
    "def f(x):\n",
    "    return 1/(1+x*x)\n",
    "\n",
    "a=float(input(\"Lower Limit=\"))\n",
    "b=float(input(\"Upper Limit=\"))\n",
    "n=int(input(\"No. of Strips=\"))\n",
    "\n",
    "h=(b-a)/n\n",
    "\n",
    "k=1\n",
    "sum=0\n",
    "\n",
    "while k<n:\n",
    "    t=a+k*h\n",
    "    sum=sum+f(t)\n",
    "    k=k+1\n",
    "\n",
    "int_a=(h/2)*((f(a)+f(b))+2*sum)\n",
    "\n",
    "print(\"Value of Integration=\",int_a)"
   ]
  },
  {
   "cell_type": "code",
   "execution_count": null,
   "id": "7ac80c84",
   "metadata": {},
   "outputs": [],
   "source": [
    "def f(x):\n",
    "    return 1/(1+x*x)\n",
    "\n",
    "a=float(input(\"Lower Limit=\"))\n",
    "b=float(input(\"Upper Limit=\"))\n",
    "n=int(input(\"No. of Strips=\"))\n",
    "\n",
    "h=(b-a)/n\n",
    "\n",
    "k=1\n",
    "sum=0\n",
    "\n",
    "while k<n:\n",
    "    t=a+k*h\n",
    "    sum=sum+f(t)\n",
    "    k=k+1\n",
    "\n",
    "int_a=(h/2)*((f(a)+f(b))+2*sum)\n",
    "\n",
    "print(\"Value of approximate Integration=\",int_a)\n",
    "\n",
    "import sympy as sy\n",
    "\n",
    "x = sy.symbols(\"x\")  # Use symbols() instead of symbol()\n",
    "int_e = sy.integrate(f(x), (x, 0, 1))\n",
    "print(\"Value of exact Integration =\", float(int_e))\n",
    "\n",
    "error=abs(float(int_e)-int_a)\n",
    "\n",
    "print(\"The error=\",error)"
   ]
  },
  {
   "cell_type": "markdown",
   "id": "3e2df5f4",
   "metadata": {},
   "source": [
    "Integration by composite trapezoidal rule"
   ]
  },
  {
   "cell_type": "code",
   "execution_count": 1,
   "id": "20cd5d82",
   "metadata": {},
   "outputs": [
    {
     "name": "stdout",
     "output_type": "stream",
     "text": [
      "Lower Limit=0\n",
      "Upper Limit=1\n",
      "No. of Strips=100\n",
      "value of integral= 0.33335000000000004\n"
     ]
    }
   ],
   "source": [
    "def f(x):\n",
    "    return x**2\n",
    "\n",
    "a=float(input(\"Lower Limit=\"))\n",
    "b=float(input(\"Upper Limit=\"))\n",
    "n=int(input(\"No. of Strips=\"))\n",
    "\n",
    "h=(b-a)/n\n",
    "\n",
    "I=0.5*h*((f(a)+f(b))+2*sum([f(a+i*h) for i in range(1,n)]))\n",
    "\n",
    "print(\"value of integral=\",I)"
   ]
  },
  {
   "cell_type": "markdown",
   "id": "5b975703",
   "metadata": {},
   "source": [
    "Using numpy array slicing"
   ]
  },
  {
   "cell_type": "code",
   "execution_count": 3,
   "id": "f2852f98",
   "metadata": {},
   "outputs": [
    {
     "name": "stdout",
     "output_type": "stream",
     "text": [
      "value of integral= 0.33335000000000004\n",
      "[0.   0.01 0.02 0.03 0.04 0.05 0.06 0.07 0.08 0.09 0.1  0.11 0.12 0.13\n",
      " 0.14 0.15 0.16 0.17 0.18 0.19 0.2  0.21 0.22 0.23 0.24 0.25 0.26 0.27\n",
      " 0.28 0.29 0.3  0.31 0.32 0.33 0.34 0.35 0.36 0.37 0.38 0.39 0.4  0.41\n",
      " 0.42 0.43 0.44 0.45 0.46 0.47 0.48 0.49 0.5  0.51 0.52 0.53 0.54 0.55\n",
      " 0.56 0.57 0.58 0.59 0.6  0.61 0.62 0.63 0.64 0.65 0.66 0.67 0.68 0.69\n",
      " 0.7  0.71 0.72 0.73 0.74 0.75 0.76 0.77 0.78 0.79 0.8  0.81 0.82 0.83\n",
      " 0.84 0.85 0.86 0.87 0.88 0.89 0.9  0.91 0.92 0.93 0.94 0.95 0.96 0.97\n",
      " 0.98 0.99 1.  ] 0.01\n"
     ]
    }
   ],
   "source": [
    "import numpy as np\n",
    "\n",
    "x,h=np.linspace(0,1,101,retstep=True)\n",
    "y=x**2\n",
    "\n",
    "I=0.5*h*(y[0]+y[-1]+2*sum(y[1:-1]))\n",
    "\n",
    "print(\"value of integral=\",I)\n",
    "print(x,h)"
   ]
  },
  {
   "cell_type": "code",
   "execution_count": 3,
   "id": "67aefaf2",
   "metadata": {},
   "outputs": [
    {
     "name": "stdout",
     "output_type": "stream",
     "text": [
      "Integral=1.000021\n"
     ]
    }
   ],
   "source": [
    "from math import sin,pi\n",
    "\n",
    "f= lambda x: x*sin(x)\n",
    "\n",
    "a=0\n",
    "b=pi/2\n",
    "\n",
    "n=100\n",
    "h=(b-a)/n\n",
    "\n",
    "S=0.5*(f(a)+f(b))\n",
    "\n",
    "for i in range(1,n):\n",
    "    S+=f(a+i*h)\n",
    "Integral=h*S\n",
    "print(\"Integral=%f\" % Integral)"
   ]
  },
  {
   "cell_type": "code",
   "execution_count": null,
   "id": "23c46a3e",
   "metadata": {},
   "outputs": [],
   "source": []
  }
 ],
 "metadata": {
  "kernelspec": {
   "display_name": "Python 3 (ipykernel)",
   "language": "python",
   "name": "python3"
  },
  "language_info": {
   "codemirror_mode": {
    "name": "ipython",
    "version": 3
   },
   "file_extension": ".py",
   "mimetype": "text/x-python",
   "name": "python",
   "nbconvert_exporter": "python",
   "pygments_lexer": "ipython3",
   "version": "3.10.7"
  }
 },
 "nbformat": 4,
 "nbformat_minor": 5
}
