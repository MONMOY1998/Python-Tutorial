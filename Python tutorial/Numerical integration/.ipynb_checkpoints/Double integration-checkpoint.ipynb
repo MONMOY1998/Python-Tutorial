{
 "cells": [
  {
   "cell_type": "code",
   "execution_count": 1,
   "id": "eccfe50a",
   "metadata": {},
   "outputs": [
    {
     "name": "stdout",
     "output_type": "stream",
     "text": [
      "Integral=1.000000\n"
     ]
    }
   ],
   "source": [
    "f= lambda x,y: x**2 * y + x* y**2\n",
    "ax = 1\n",
    "bx=2\n",
    "\n",
    "ay=-1\n",
    "by=1\n",
    "\n",
    "nx=10\n",
    "ny=10\n",
    "\n",
    "hx=(bx-ax)/nx\n",
    "hy=(by-ay)/ny\n",
    "\n",
    "S=0\n",
    "\n",
    "for i in range(0,ny+1):\n",
    "    if i==0 or i==ny:\n",
    "        p=1\n",
    "    elif i%2==1:\n",
    "        p=4\n",
    "    else:\n",
    "        p=2\n",
    "    for j in range(0,nx+1):\n",
    "        if j==0 or j==nx:\n",
    "            q=1\n",
    "        elif j%2==1:\n",
    "            q=4\n",
    "        else:\n",
    "            q=2\n",
    "        S+=p*q * f(ax+j*hx, ay+i*hy)\n",
    "        \n",
    "Integral=hx*hy/9 * S\n",
    "\n",
    "print(\"Integral=%f\" % Integral)\n",
    "        \n",
    "        "
   ]
  },
  {
   "cell_type": "code",
   "execution_count": 2,
   "id": "05c7ab58",
   "metadata": {},
   "outputs": [
    {
     "data": {
      "text/plain": [
       "(2.666666666666667, 2.960594732333751e-14)"
      ]
     },
     "execution_count": 2,
     "metadata": {},
     "output_type": "execute_result"
    }
   ],
   "source": [
    "from scipy.integrate import quad\n",
    "\n",
    "f=lambda x:x**2\n",
    "quad(f,0,2)"
   ]
  },
  {
   "cell_type": "code",
   "execution_count": 3,
   "id": "4c38c1b4",
   "metadata": {},
   "outputs": [
    {
     "data": {
      "text/plain": [
       "2.6666666666666665"
      ]
     },
     "execution_count": 3,
     "metadata": {},
     "output_type": "execute_result"
    }
   ],
   "source": [
    "from scipy.integrate import simps\n",
    "import numpy as np\n",
    "f= lambda x:x**2\n",
    "x=np.linspace(0,2,1000)\n",
    "simps(f(x),x)"
   ]
  },
  {
   "cell_type": "code",
   "execution_count": 5,
   "id": "9da3684c",
   "metadata": {},
   "outputs": [
    {
     "data": {
      "text/plain": [
       "(0.4999999999985751, 1.3894083651858995e-08)"
      ]
     },
     "execution_count": 5,
     "metadata": {},
     "output_type": "execute_result"
    }
   ],
   "source": [
    "from scipy.integrate import dblquad\n",
    "import numpy as np\n",
    "\n",
    "f= lambda t,x: np.exp(-x*t)/t**n\n",
    "\n",
    "n=2\n",
    "\n",
    "dblquad(f,0,np.inf,1,np.inf)\n"
   ]
  },
  {
   "cell_type": "code",
   "execution_count": 8,
   "id": "ba91d4ff",
   "metadata": {},
   "outputs": [
    {
     "name": "stdout",
     "output_type": "stream",
     "text": [
      "Double integral result: 1.25\n",
      "Error estimate: 3.0941041736325445e-14\n"
     ]
    }
   ],
   "source": [
    "from scipy.integrate import dblquad\n",
    "import numpy as np\n",
    "\n",
    "# Define the function to be integrated\n",
    "f = lambda x, y: 30 * x * y\n",
    "\n",
    "# Define the limits of integration\n",
    "x_lower_limit = 0\n",
    "x_upper_limit = 1\n",
    "\n",
    "# Define the limits for y in terms of x\n",
    "y_lower_limit = lambda x: x**2\n",
    "y_upper_limit = lambda x: x\n",
    "\n",
    "# Perform the double integration\n",
    "result, error = dblquad(f, x_lower_limit, x_upper_limit, y_lower_limit, y_upper_limit)\n",
    "\n",
    "# Print the result\n",
    "print(\"Double integral result:\", result)\n",
    "print(\"Error estimate:\", error)\n"
   ]
  },
  {
   "cell_type": "code",
   "execution_count": 16,
   "id": "9ed022a0",
   "metadata": {},
   "outputs": [
    {
     "name": "stdout",
     "output_type": "stream",
     "text": [
      "Double integral result: 113.0973355291907\n",
      "Error estimate: 2.448214347296816e-07\n"
     ]
    }
   ],
   "source": [
    "from scipy.integrate import dblquad\n",
    "import numpy as np\n",
    "\n",
    "# Define the function to be integrated\n",
    "f = lambda x, y: (np.sqrt(x**2 + y**2))\n",
    "\n",
    "# Define the limits of integration\n",
    "x_lower_limit = 0\n",
    "x_upper_limit = 6\n",
    "\n",
    "# Define the limits for y in terms of x\n",
    "y_lower_limit = lambda x: 0\n",
    "y_upper_limit = lambda x: np.sqrt(36 - x**2)\n",
    "\n",
    "# Perform the double integration\n",
    "result, error = dblquad(f, x_lower_limit, x_upper_limit, y_lower_limit, y_upper_limit)\n",
    "\n",
    "# Print the result\n",
    "print(\"Double integral result:\", result)\n",
    "print(\"Error estimate:\", error)\n"
   ]
  },
  {
   "cell_type": "code",
   "execution_count": 17,
   "id": "0de14bf4",
   "metadata": {},
   "outputs": [
    {
     "name": "stdout",
     "output_type": "stream",
     "text": [
      "Double integral result: 452.38934211676093\n",
      "Error estimate: 5.477351836568669e-07\n"
     ]
    }
   ],
   "source": [
    "from scipy.integrate import dblquad\n",
    "import numpy as np\n",
    "\n",
    "# Define the function to be integrated\n",
    "f = lambda x, y: np.sqrt(x**2 + y**2)\n",
    "\n",
    "# Define the limits of integration\n",
    "x_lower_limit = -6\n",
    "x_upper_limit = 6\n",
    "\n",
    "# Define the limits for y in terms of x\n",
    "y_lower_limit = lambda x: -np.sqrt(36 - x**2)\n",
    "y_upper_limit = lambda x: np.sqrt(36 - x**2)\n",
    "\n",
    "# Perform the double integration\n",
    "result, error = dblquad(f, x_lower_limit, x_upper_limit, y_lower_limit, y_upper_limit)\n",
    "\n",
    "# Print the result\n",
    "print(\"Double integral result:\", result)\n",
    "print(\"Error estimate:\", error)\n"
   ]
  },
  {
   "cell_type": "code",
   "execution_count": 19,
   "id": "95cc32cd",
   "metadata": {},
   "outputs": [
    {
     "name": "stdout",
     "output_type": "stream",
     "text": [
      "Double integral result: 4.188790204786397\n",
      "Error estimate: 2.000470900043183e-09\n"
     ]
    }
   ],
   "source": [
    "from scipy.integrate import tplquad\n",
    "import numpy as np\n",
    "\n",
    "f= lambda x,y,z:1\n",
    "\n",
    "# Define the limits of integration\n",
    "x_lower_limit = -1\n",
    "x_upper_limit = 1\n",
    "\n",
    "# Define the limits for y in terms of x\n",
    "y_lower_limit = lambda x: -np.sqrt(1 - x**2)\n",
    "y_upper_limit = lambda x: np.sqrt(1 - x**2)\n",
    "\n",
    "\n",
    "# Define the limits for z in terms of x and y\n",
    "z_lower_limit = lambda x,y: -np.sqrt(1 - x**2 - y**2)\n",
    "z_upper_limit = lambda x,y: np.sqrt(1 - x**2- y**2)\n",
    "\n",
    "\n",
    "# Perform the double integration\n",
    "result, error = tplquad(f, x_lower_limit, x_upper_limit, y_lower_limit, y_upper_limit, z_lower_limit, z_upper_limit)\n",
    "\n",
    "# Print the result\n",
    "print(\"Double integral result:\", result)\n",
    "print(\"Error estimate:\", error)"
   ]
  },
  {
   "cell_type": "code",
   "execution_count": 20,
   "id": "f17dc52b",
   "metadata": {},
   "outputs": [
    {
     "data": {
      "text/plain": [
       "0.666662894559318"
      ]
     },
     "execution_count": 20,
     "metadata": {},
     "output_type": "execute_result"
    }
   ],
   "source": [
    "from scipy.integrate import simps\n",
    "import numpy as np\n",
    "f= lambda x:np.sqrt(1-x)\n",
    "x=np.linspace(0,1,1000)\n",
    "simps(f(x),x)"
   ]
  },
  {
   "cell_type": "code",
   "execution_count": 22,
   "id": "b0728c71",
   "metadata": {},
   "outputs": [
    {
     "data": {
      "text/plain": [
       "(3.141592653589793, 5.155583041103855e-10)"
      ]
     },
     "execution_count": 22,
     "metadata": {},
     "output_type": "execute_result"
    }
   ],
   "source": [
    "from scipy.integrate import quad\n",
    "import numpy as np\n",
    "f=lambda x:1/(1+x**2)\n",
    "quad(f,-np.inf,np.inf)"
   ]
  },
  {
   "cell_type": "code",
   "execution_count": 23,
   "id": "c05b93e8",
   "metadata": {},
   "outputs": [
    {
     "data": {
      "text/plain": [
       "0.8047189562212753"
      ]
     },
     "execution_count": 23,
     "metadata": {},
     "output_type": "execute_result"
    }
   ],
   "source": [
    "from scipy.integrate import simps\n",
    "import numpy as np\n",
    "f= lambda x:1/(2*x - 1)\n",
    "x=np.linspace(1,3,1000)\n",
    "simps(f(x),x)"
   ]
  },
  {
   "cell_type": "code",
   "execution_count": 24,
   "id": "139e661f",
   "metadata": {},
   "outputs": [
    {
     "data": {
      "text/plain": [
       "(1.5314825509999621, 2.5594981689636143e-10)"
      ]
     },
     "execution_count": 24,
     "metadata": {},
     "output_type": "execute_result"
    }
   ],
   "source": [
    "from scipy.integrate import quad\n",
    "import numpy as np\n",
    "f=lambda t: np.sin(t)/t\n",
    "quad(f,0,25)"
   ]
  },
  {
   "cell_type": "code",
   "execution_count": 32,
   "id": "f032b58f",
   "metadata": {},
   "outputs": [
    {
     "data": {
      "image/png": "[encoded data removed]",
      "text/plain": [
       "<Figure size 640x480 with 1 Axes>"
      ]
     },
     "metadata": {},
     "output_type": "display_data"
    }
   ],
   "source": [
    "import numpy as np\n",
    "import matplotlib.pyplot as plt\n",
    "from scipy.integrate import quad\n",
    "\n",
    "# Define the function to be integrated\n",
    "f = lambda t: np.sin(t) / t\n",
    "\n",
    "# Define the range of x values\n",
    "x_values = np.linspace(1e-10, 25, 100)  # Avoid division by zero at t=0\n",
    "\n",
    "# Perform the integration for each x value and store the results\n",
    "\n",
    "T=[]\n",
    "for i in x_values:\n",
    "    P=quad(f,0,i)[0]\n",
    "    T.append(P)\n",
    "    \n",
    "\n",
    "# Plot the results\n",
    "plt.plot(x_values, T, label='Si(x)')\n",
    "plt.xlabel('x')\n",
    "plt.ylabel('Si(x)')\n",
    "plt.title('Integration Result vs. x')\n",
    "plt.legend()\n",
    "plt.show()\n"
   ]
  },
  {
   "cell_type": "code",
   "execution_count": 34,
   "id": "7df973a2",
   "metadata": {},
   "outputs": [
    {
     "name": "stdout",
     "output_type": "stream",
     "text": [
      "Integration result: 1.5707963267949014\n",
      "Error estimate: 1.3920475590482692e-08\n"
     ]
    }
   ],
   "source": [
    "from scipy.integrate import quad\n",
    "import numpy as np\n",
    "\n",
    "f = lambda x: 1 / (5 + 3 * np.cos(x))\n",
    "result, error = quad(f, 0, 2 * np.pi)\n",
    "\n",
    "print(\"Integration result:\", result)\n",
    "print(\"Error estimate:\", error)\n"
   ]
  },
  {
   "cell_type": "code",
   "execution_count": 37,
   "id": "187a254c",
   "metadata": {},
   "outputs": [
    {
     "name": "stdout",
     "output_type": "stream",
     "text": [
      "Integration result: 0.8224670334241132\n",
      "Error estimate: 9.131218375025987e-15\n"
     ]
    }
   ],
   "source": [
    "from scipy.integrate import quad\n",
    "import numpy as np\n",
    "\n",
    "f = lambda x: np.log(1+x)/x\n",
    "result, error = quad(f, 0, 1)\n",
    "\n",
    "print(\"Integration result:\", result)\n",
    "print(\"Error estimate:\", error)"
   ]
  },
  {
   "cell_type": "code",
   "execution_count": null,
   "id": "53476ec4",
   "metadata": {},
   "outputs": [],
   "source": []
  }
 ],
 "metadata": {
  "kernelspec": {
   "display_name": "Python 3 (ipykernel)",
   "language": "python",
   "name": "python3"
  },
  "language_info": {
   "codemirror_mode": {
    "name": "ipython",
    "version": 3
   },
   "file_extension": ".py",
   "mimetype": "text/x-python",
   "name": "python",
   "nbconvert_exporter": "python",
   "pygments_lexer": "ipython3",
   "version": "3.10.7"
  }
 },
 "nbformat": 4,
 "nbformat_minor": 5
}
