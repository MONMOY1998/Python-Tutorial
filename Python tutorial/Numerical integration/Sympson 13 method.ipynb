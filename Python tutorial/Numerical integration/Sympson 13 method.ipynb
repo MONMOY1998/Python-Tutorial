{
 "cells": [
  {
   "cell_type": "markdown",
   "id": "e55517d9",
   "metadata": {},
   "source": [
    "# Integration using Simpson 1/3 method"
   ]
  },
  {
   "cell_type": "code",
   "execution_count": 1,
   "id": "1086ba90",
   "metadata": {},
   "outputs": [
    {
     "name": "stdout",
     "output_type": "stream",
     "text": [
      "Lower limit of integration=1\n",
      "Upper limit of integration=3\n",
      "No.of strips=8\n",
      "The approximate value of Integration = 0.6931545306545306\n"
     ]
    }
   ],
   "source": [
    "def f(x):\n",
    "    return 1/(1+x)\n",
    "\n",
    "a=float(input(\"Lower limit of integration=\"))\n",
    "b=float(input(\"Upper limit of integration=\"))\n",
    "n=int(input(\"No.of strips=\"))\n",
    "\n",
    "h=(b-a)/n\n",
    "\n",
    "k=1\n",
    "sum=0\n",
    "\n",
    "while k<n:\n",
    "    x=a+k*h\n",
    "    if k%2==0:\n",
    "        sum=sum+2*(f(x))\n",
    "    else:\n",
    "        sum=sum+4*f(x)\n",
    "    k=k+1\n",
    "    \n",
    "int_a=(h/3)*((f(a)+f(b))+sum)\n",
    "\n",
    "print(\"The approximate value of Integration =\",int_a)\n",
    "    "
   ]
  },
  {
   "cell_type": "code",
   "execution_count": 2,
   "id": "cea7abdf",
   "metadata": {},
   "outputs": [
    {
     "name": "stdout",
     "output_type": "stream",
     "text": [
      "Lower limit of integration=1\n",
      "Upper limit of integration=3\n",
      "No.of strips=8\n",
      "Value of exact Integration = 0.6931471805599453\n"
     ]
    }
   ],
   "source": [
    "def f(x):\n",
    "    return 1/(1+x)\n",
    "\n",
    "a=float(input(\"Lower limit of integration=\"))\n",
    "b=float(input(\"Upper limit of integration=\"))\n",
    "n=int(input(\"No.of strips=\"))\n",
    "\n",
    "\n",
    "import sympy as sy\n",
    "\n",
    "x = sy.symbols(\"x\")  # Use symbols() instead of symbol()\n",
    "int_e = sy.integrate(f(x), (x, 0, 1))\n",
    "print(\"Value of exact Integration =\", float(int_e))"
   ]
  },
  {
   "cell_type": "markdown",
   "id": "191e78bb",
   "metadata": {},
   "source": [
    "using numpy array slicing"
   ]
  },
  {
   "cell_type": "code",
   "execution_count": 2,
   "id": "5b3b2243",
   "metadata": {},
   "outputs": [
    {
     "name": "stdout",
     "output_type": "stream",
     "text": [
      "value of integral= 0.33333333333333337\n"
     ]
    }
   ],
   "source": [
    "import numpy as np\n",
    "\n",
    "x,h=np.linspace(0,1,101,retstep=True)\n",
    "\n",
    "y=x**2\n",
    "\n",
    "I=h/3 *((y[0]+y[-1])+2*sum(y[2:-2:2])+4*sum(y[1:-1:2]))\n",
    "\n",
    "print(\"value of integral=\",I)"
   ]
  },
  {
   "cell_type": "markdown",
   "id": "78a50454",
   "metadata": {},
   "source": [
    "$Without$ $numpy$"
   ]
  },
  {
   "cell_type": "code",
   "execution_count": 5,
   "id": "121b1307",
   "metadata": {},
   "outputs": [
    {
     "name": "stdout",
     "output_type": "stream",
     "text": [
      "Enter lower limit:0\n",
      "Enter upper limit:1\n",
      "Enter no. of strips100\n",
      "value of integral= 0.33333333333333337\n"
     ]
    }
   ],
   "source": [
    "def f(x):\n",
    "    return x**2\n",
    "\n",
    "a=float(input(\"Enter lower limit:\"))\n",
    "b=float(input(\"Enter upper limit:\"))\n",
    "n=int(input(\"Enter no. of strips\"))\n",
    "\n",
    "s_even=2*sum([f(a+i*h) for i in range(2,n-1,2)])\n",
    "s_odd=4*sum([f(a+i*h) for i in range(1,n,2)])\n",
    "\n",
    "\n",
    "\n",
    "I=h/3 * ((f(a)+f(b))+s_odd+s_even)\n",
    "\n",
    "print(\"value of integral=\",I)"
   ]
  },
  {
   "cell_type": "code",
   "execution_count": 1,
   "id": "f2eb4ba2",
   "metadata": {},
   "outputs": [
    {
     "name": "stdout",
     "output_type": "stream",
     "text": [
      "Lower limit of integration=0\n",
      "Upper limit of integration=1\n",
      "No.of points=100\n",
      "The integral result is 0.312703125\n"
     ]
    }
   ],
   "source": [
    "def f(x):\n",
    "    return x**2\n",
    "\n",
    "a=float(input(\"Lower limit of integration=\"))\n",
    "b=float(input(\"Upper limit of integration=\"))\n",
    "n=int(input(\"No.of points=\"))\n",
    "h = (b - a) / n\n",
    "\n",
    "# Avoid using 'sum' as a variable name to prevent conflicts with the built-in 'sum' function\n",
    "s_divisible = 2 * sum([f(a + i * h) for i in range(3, n - 1, 3)])\n",
    "s_nondivisible_1 = 3 * sum([f(a + i * h) for i in range(1, n, 3)])\n",
    "s_nondivisible_2 = 3 * sum([f(a + i * h) for i in range(2, n - 2, 3)])\n",
    "\n",
    "I = (3 * h / 8) * ((f(a) + f(b)) + s_divisible + s_nondivisible_1 + s_nondivisible_2)\n",
    "\n",
    "print(\"The integral result is\", I)"
   ]
  },
  {
   "cell_type": "code",
   "execution_count": 3,
   "id": "a7555afd",
   "metadata": {},
   "outputs": [
    {
     "name": "stdout",
     "output_type": "stream",
     "text": [
      "Lower limit of integration=0\n",
      "Upper limit of integration=1\n",
      "No.of points=101\n",
      "the value of integral is 0.312703125\n",
      "[0.   0.01 0.02 0.03 0.04 0.05 0.06 0.07 0.08 0.09 0.1  0.11 0.12 0.13\n",
      " 0.14 0.15 0.16 0.17 0.18 0.19 0.2  0.21 0.22 0.23 0.24 0.25 0.26 0.27\n",
      " 0.28 0.29 0.3  0.31 0.32 0.33 0.34 0.35 0.36 0.37 0.38 0.39 0.4  0.41\n",
      " 0.42 0.43 0.44 0.45 0.46 0.47 0.48 0.49 0.5  0.51 0.52 0.53 0.54 0.55\n",
      " 0.56 0.57 0.58 0.59 0.6  0.61 0.62 0.63 0.64 0.65 0.66 0.67 0.68 0.69\n",
      " 0.7  0.71 0.72 0.73 0.74 0.75 0.76 0.77 0.78 0.79 0.8  0.81 0.82 0.83\n",
      " 0.84 0.85 0.86 0.87 0.88 0.89 0.9  0.91 0.92 0.93 0.94 0.95 0.96 0.97\n",
      " 0.98 0.99 1.  ] 0.01\n"
     ]
    }
   ],
   "source": [
    "import math\n",
    "import numpy as np\n",
    "\n",
    "\n",
    "\n",
    "a=float(input(\"Lower limit of integration=\"))\n",
    "b=float(input(\"Upper limit of integration=\"))\n",
    "n=int(input(\"No.of points=\"))\n",
    "\n",
    "x,h=np.linspace(a,b,n,retstep=True)\n",
    "\n",
    "y=x**2\n",
    "\n",
    "\n",
    "\n",
    "\n",
    "\n",
    "I= (3 * h / 8) * (y[0] + 3 * np.sum(y[1:-1:3]) + 3 * np.sum(y[2:-3:3]) + 2 *np.sum(y[3:-3:3]) + y[-1])\n",
    "\n",
    "\n",
    "print(\"the value of integral is\",I)\n",
    "print(x,h)\n"
   ]
  },
  {
   "cell_type": "code",
   "execution_count": 1,
   "id": "37db7d28",
   "metadata": {},
   "outputs": [
    {
     "name": "stdout",
     "output_type": "stream",
     "text": [
      "Integral=0.999999\n"
     ]
    }
   ],
   "source": [
    "from math import sin,pi\n",
    "\n",
    "f= lambda x: x*sin(x)\n",
    "\n",
    "a=0\n",
    "b=pi/2\n",
    "\n",
    "n=18\n",
    "h=(b-a)/n\n",
    "\n",
    "S=(f(a)+f(b))\n",
    "\n",
    "for i in range(1,n,2):\n",
    "    S+=4*f(a+i*h)\n",
    "    \n",
    "for i in range(2,n,2):\n",
    "    S+=2*f(a+i*h)\n",
    "    \n",
    "    \n",
    "Integral=(h/3)*S\n",
    "print(\"Integral=%f\" % Integral)"
   ]
  },
  {
   "cell_type": "code",
   "execution_count": null,
   "id": "6713613c",
   "metadata": {},
   "outputs": [],
   "source": []
  }
 ],
 "metadata": {
  "kernelspec": {
   "display_name": "Python 3 (ipykernel)",
   "language": "python",
   "name": "python3"
  },
  "language_info": {
   "codemirror_mode": {
    "name": "ipython",
    "version": 3
   },
   "file_extension": ".py",
   "mimetype": "text/x-python",
   "name": "python",
   "nbconvert_exporter": "python",
   "pygments_lexer": "ipython3",
   "version": "3.10.7"
  }
 },
 "nbformat": 4,
 "nbformat_minor": 5
}
