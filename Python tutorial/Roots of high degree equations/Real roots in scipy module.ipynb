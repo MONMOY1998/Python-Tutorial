{
 "cells": [
  {
   "cell_type": "code",
   "execution_count": 10,
   "id": "c886a40e",
   "metadata": {
    "scrolled": true
   },
   "outputs": [
    {
     "name": "stdout",
     "output_type": "stream",
     "text": [
      "0.9999999999999999\n",
      "1.4999999999999996\n",
      "1.5000000000005458\n",
      "[1.5]\n",
      "[1.]\n"
     ]
    }
   ],
   "source": [
    "from scipy.optimize import  newton,bisect,fsolve,root\n",
    "f=lambda x:2*x**2-5*x+3\n",
    "print(newton(f,0))\n",
    "print(newton(f,2))\n",
    "print(bisect(f,1.1,1.8))\n",
    "print(fsolve(f,3))\n",
    "print(root(f,0).x)"
   ]
  },
  {
   "cell_type": "code",
   "execution_count": null,
   "id": "9bfecf53",
   "metadata": {},
   "outputs": [],
   "source": []
  }
 ],
 "metadata": {
  "kernelspec": {
   "display_name": "Python 3 (ipykernel)",
   "language": "python",
   "name": "python3"
  },
  "language_info": {
   "codemirror_mode": {
    "name": "ipython",
    "version": 3
   },
   "file_extension": ".py",
   "mimetype": "text/x-python",
   "name": "python",
   "nbconvert_exporter": "python",
   "pygments_lexer": "ipython3",
   "version": "3.10.7"
  }
 },
 "nbformat": 4,
 "nbformat_minor": 5
}
