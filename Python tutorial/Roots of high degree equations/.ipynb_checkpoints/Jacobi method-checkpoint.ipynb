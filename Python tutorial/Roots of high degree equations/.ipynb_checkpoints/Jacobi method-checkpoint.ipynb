{
 "cells": [
  {
   "cell_type": "code",
   "execution_count": 5,
   "id": "562e7887",
   "metadata": {},
   "outputs": [
    {
     "name": "stdout",
     "output_type": "stream",
     "text": [
      "The solution:\n",
      "[ 0.3650067  -0.23378439  0.28506845 -0.20362079]\n",
      "Number of iterations: 31\n"
     ]
    }
   ],
   "source": [
    "import numpy as np\n",
    "\n",
    "a=np.array([[4,1,2,-1],\n",
    "          [3,6,-1,2],\n",
    "          [2,-1,5,-3],\n",
    "          [4,1,-3,-8]],float)\n",
    "\n",
    "b=np.array([2,-1,3,2],float)\n",
    "\n",
    "\n",
    "(n,)=np.shape(b)\n",
    "\n",
    "x=np.full(n,1.0,float) # initial value of x is 1.0,This line initializes an array x with the same length as b filled with the value 1.0.\n",
    "\n",
    "xnew=np.empty(n,float)\n",
    "iterlimit=100\n",
    "tolerance=1.0e-6\n",
    "\n",
    "# iterations\n",
    "\n",
    "for iteration in range(iterlimit):\n",
    "    for i in range(n):\n",
    "        s=0\n",
    "        for j in range(n):\n",
    "            if j!=i:\n",
    "                s+=a[i,j]*x[j]\n",
    "        xnew[i]=(-1/a[i,i])*(s-b[i])\n",
    "        \n",
    "    if(abs(xnew-x)<tolerance).all():\n",
    "        break\n",
    "    else:\n",
    "        x=np.copy(xnew)\n",
    "        \n",
    "print(\"The solution:\")\n",
    "print(x)\n",
    "print(\"Number of iterations: %d\"% (iteration+1))"
   ]
  },
  {
   "cell_type": "code",
   "execution_count": 3,
   "id": "9f4f0159",
   "metadata": {},
   "outputs": [
    {
     "name": "stdout",
     "output_type": "stream",
     "text": [
      "The solution:\n",
      "[ 0.3650067  -0.23378439  0.28506845 -0.20362079]\n",
      "Number of iterations: 31\n"
     ]
    }
   ],
   "source": [
    "import numpy as np\n",
    "\n",
    "a=np.array([[4,1,2,-1],\n",
    "          [3,6,-1,2],\n",
    "          [2,-1,5,-3],\n",
    "          [4,1,-3,-8]],float)\n",
    "\n",
    "b=np.array([2,-1,3,2],float)\n",
    "\n",
    "(n,)=np.shape(b)\n",
    "\n",
    "x=np.full(n,1.0,float) # initial value of x is 1.0\n",
    "\n",
    "xnew=np.empty(n,float)\n",
    "iterlimit=100\n",
    "tolerance=1.0e-6\n",
    "\n",
    "# iterations\n",
    "\n",
    "for iteration in range(1,iterlimit+1):\n",
    "    for i in range(n):\n",
    "        s=0\n",
    "        for j in range(n):\n",
    "            if j!=i:\n",
    "                s+=a[i,j]*x[j]\n",
    "        xnew[i]=(-1/a[i,i])*(s-b[i])\n",
    "        \n",
    "    if(abs(xnew-x)<tolerance).all():\n",
    "        break\n",
    "    else:\n",
    "        x=np.copy(xnew)\n",
    "        \n",
    "print(\"The solution:\")\n",
    "print(x)\n",
    "print(\"Number of iterations: %d\"% (iteration))"
   ]
  },
  {
   "cell_type": "code",
   "execution_count": null,
   "id": "c19640cb",
   "metadata": {},
   "outputs": [],
   "source": []
  }
 ],
 "metadata": {
  "kernelspec": {
   "display_name": "Python 3 (ipykernel)",
   "language": "python",
   "name": "python3"
  },
  "language_info": {
   "codemirror_mode": {
    "name": "ipython",
    "version": 3
   },
   "file_extension": ".py",
   "mimetype": "text/x-python",
   "name": "python",
   "nbconvert_exporter": "python",
   "pygments_lexer": "ipython3",
   "version": "3.10.7"
  }
 },
 "nbformat": 4,
 "nbformat_minor": 5
}
