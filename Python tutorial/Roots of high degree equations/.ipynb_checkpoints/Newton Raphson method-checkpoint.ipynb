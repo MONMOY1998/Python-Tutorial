{
 "cells": [
  {
   "cell_type": "code",
   "execution_count": null,
   "id": "ca51f34d",
   "metadata": {},
   "outputs": [],
   "source": []
  },
  {
   "cell_type": "code",
   "execution_count": 1,
   "id": "b5d06b63",
   "metadata": {},
   "outputs": [
    {
     "name": "stdout",
     "output_type": "stream",
     "text": [
      "The root: 1.00000\n",
      "The number of iterations: 7\n"
     ]
    }
   ],
   "source": [
    "x=0\n",
    "for iteration in range(1,101):\n",
    "    xnew=x-(2*x**2 -5*x +3)/(4*x-5)\n",
    "    if abs(xnew-x)<0.000001:\n",
    "        break\n",
    "    x=xnew\n",
    "    \n",
    "print(f\"The root: {xnew:.5f}\")\n",
    "print(f\"The number of iterations: {iteration:d}\")"
   ]
  },
  {
   "cell_type": "code",
   "execution_count": 2,
   "id": "0debf9da",
   "metadata": {},
   "outputs": [
    {
     "name": "stdout",
     "output_type": "stream",
     "text": [
      "The root: 1.50000\n",
      "The number of iterations: 6\n"
     ]
    }
   ],
   "source": [
    "x=2\n",
    "for iteration in range(1,101):\n",
    "    xnew=x-(2*x**2 -5*x +3)/(4*x-5)\n",
    "    if abs(xnew-x)<0.000001:\n",
    "        break\n",
    "    x=xnew\n",
    "    \n",
    "print(f\"The root: {xnew:.5f}\")\n",
    "print(f\"The number of iterations: {iteration:d}\")"
   ]
  },
  {
   "cell_type": "code",
   "execution_count": 8,
   "id": "6f97d448",
   "metadata": {},
   "outputs": [
    {
     "name": "stdout",
     "output_type": "stream",
     "text": [
      "The root: 3.85030\n",
      "The number of iterations: 7\n"
     ]
    }
   ],
   "source": [
    "#import numpy as np\n",
    "from math import *\n",
    "x=2\n",
    "for iteration in range(1,101):\n",
    "    xnew=x-(x**2 +cos(x)**2 -4*x)/(2*(x-cos(x)*sin(x)-2))\n",
    "    if abs(xnew-x)<0.000001:\n",
    "        break\n",
    "    x=xnew\n",
    "    \n",
    "print(f\"The root: {xnew:.5f}\")\n",
    "print(f\"The number of iterations: {iteration:d}\")"
   ]
  },
  {
   "cell_type": "code",
   "execution_count": null,
   "id": "ba7b2d6b",
   "metadata": {},
   "outputs": [],
   "source": []
  }
 ],
 "metadata": {
  "kernelspec": {
   "display_name": "Python 3 (ipykernel)",
   "language": "python",
   "name": "python3"
  },
  "language_info": {
   "codemirror_mode": {
    "name": "ipython",
    "version": 3
   },
   "file_extension": ".py",
   "mimetype": "text/x-python",
   "name": "python",
   "nbconvert_exporter": "python",
   "pygments_lexer": "ipython3",
   "version": "3.10.7"
  }
 },
 "nbformat": 4,
 "nbformat_minor": 5
}
