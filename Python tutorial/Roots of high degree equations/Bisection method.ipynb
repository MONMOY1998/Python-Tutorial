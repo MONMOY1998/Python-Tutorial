{
 "cells": [
  {
   "cell_type": "code",
   "execution_count": null,
   "id": "80d0ba3d",
   "metadata": {},
   "outputs": [],
   "source": [
    "x1=0\n",
    "x2=1.3\n",
    "y1=2*x1**2-5*x1+3\n",
    "y2=2*x2**2-5*x2+3\n",
    " \n",
    "if y1*y2>0:\n",
    "    print(\"The root is not with in the given interval\")\n",
    "    exit\n",
    "for bisection in range(1,101):\n",
    "    xh= (x1+x2)/2\n",
    "    yh= 2*xh**2-5*xh+3\n",
    "    y1=2*x1**2-5*x1+3\n",
    "    if abs(y1)<1.0E-6:\n",
    "        break\n",
    "    elif y1*yh<0:\n",
    "        x2=xh\n",
    "    else:\n",
    "        x1=xh\n",
    "print(f\"The root: {x1:.5f}\")\n",
    "print(f\"The number of bisections: {bisection:d}\")"
   ]
  },
  {
   "cell_type": "code",
   "execution_count": null,
   "id": "1641dfda",
   "metadata": {},
   "outputs": [],
   "source": [
    "x1=1.2\n",
    "x2=1.5\n",
    "y1=2*x1**2-5*x1+3\n",
    "y2=2*x2**2-5*x2+3\n",
    " \n",
    "if y1*y2>0:\n",
    "    print(\"The root is not with in the given interval\")\n",
    "    exit\n",
    "for bisection in range(1,101):\n",
    "    xh= (x1+x2)/2\n",
    "    yh= 2*xh**2-5*xh+3\n",
    "    y1=2*x1**2-5*x1+3\n",
    "    if abs(y1)<1.0E-6:\n",
    "        break\n",
    "    elif y1*yh<0:\n",
    "        x2=xh\n",
    "    else:\n",
    "        x1=xh\n",
    "print(f\"The root: {x1:.5f}\")\n",
    "print(f\"The number of bisections: {bisection:d}\")"
   ]
  },
  {
   "cell_type": "code",
   "execution_count": 1,
   "id": "38295ced",
   "metadata": {},
   "outputs": [
    {
     "name": "stdout",
     "output_type": "stream",
     "text": [
      "lower limit,upper limit, tol \n",
      "0,1.2,0.001\n",
      "root= 0.9999023437499999\n"
     ]
    }
   ],
   "source": [
    "f= lambda x: 2*x**2-5*x+3\n",
    "x1,x2,tol=eval(input(\"lower limit,upper limit, tol \\n\"))\n",
    "\n",
    "while f(x1)*f(x2)>0:\n",
    "    print(\"The root is not with in the given interval\")\n",
    "    break\n",
    "    \n",
    "while abs(x2-x1)>=tol:\n",
    "    xh= (x1+x2)/2\n",
    "    \n",
    "    if f(xh)==0:\n",
    "        print(\"Root=\",xh)\n",
    "        break\n",
    "    \n",
    "    if f(x1)*f(xh)<0:\n",
    "        x2=xh\n",
    "    else:\n",
    "        x1=xh\n",
    "        \n",
    "print(\"root=\",(x1+x2)/2)\n",
    "    \n",
    "    "
   ]
  },
  {
   "cell_type": "code",
   "execution_count": 6,
   "id": "69771211",
   "metadata": {},
   "outputs": [
    {
     "name": "stdout",
     "output_type": "stream",
     "text": [
      "Enter value of x1:1.4\n",
      "Enter value of x1:1.6\n",
      "The root: 1.50000\n",
      "The number of bisections: 2\n"
     ]
    }
   ],
   "source": [
    "#y=lambda x:2*x**2-5*x+3\n",
    "\n",
    "def y(x):\n",
    "    return 2*x**2-5*x+3\n",
    "\n",
    "x1=float(input(\"Enter value of x1:\"))\n",
    "x2=float(input(\"Enter value of x1:\"))\n",
    "y1=y(x1)\n",
    "y2=y(x2)\n",
    " \n",
    "if y1*y2>0:\n",
    "    print(\"The root is not with in the given interval\")\n",
    "    exit\n",
    "for bisection in range(1,101):\n",
    "    xh= (x1+x2)/2\n",
    "    yh= y(xh)\n",
    "    y1=y(x1)\n",
    "    if abs(y1)<1.0E-6:\n",
    "        break\n",
    "    elif y1*yh<0:\n",
    "        x2=xh\n",
    "    else:\n",
    "        x1=xh\n",
    "print(f\"The root: {x1:.5f}\")\n",
    "print(f\"The number of bisections: {bisection:d}\")"
   ]
  },
  {
   "cell_type": "code",
   "execution_count": null,
   "id": "d0c1c600",
   "metadata": {},
   "outputs": [],
   "source": []
  }
 ],
 "metadata": {
  "kernelspec": {
   "display_name": "Python 3 (ipykernel)",
   "language": "python",
   "name": "python3"
  },
  "language_info": {
   "codemirror_mode": {
    "name": "ipython",
    "version": 3
   },
   "file_extension": ".py",
   "mimetype": "text/x-python",
   "name": "python",
   "nbconvert_exporter": "python",
   "pygments_lexer": "ipython3",
   "version": "3.10.7"
  }
 },
 "nbformat": 4,
 "nbformat_minor": 5
}
