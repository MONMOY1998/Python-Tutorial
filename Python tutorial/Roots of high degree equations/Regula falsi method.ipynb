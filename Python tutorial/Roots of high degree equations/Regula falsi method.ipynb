{
 "cells": [
  {
   "cell_type": "code",
   "execution_count": 8,
   "id": "bfd578c2",
   "metadata": {},
   "outputs": [
    {
     "name": "stdout",
     "output_type": "stream",
     "text": [
      "Enter value of x1:1.1\n",
      "Enter value of x2:3\n",
      "The root: 1.50000\n",
      "The number of computed false positions: 59\n"
     ]
    }
   ],
   "source": [
    "def rfalsi(fn,x1,x2,tol=0.001,ilimit=100):\n",
    "    y1=fn(x1)\n",
    "    y2=fn(x2)\n",
    "    xh=0\n",
    "    ipos=0\n",
    "    \n",
    "    if y1==0:\n",
    "        xh=x1\n",
    "    elif y2==0:\n",
    "        xh=x2\n",
    "    elif y1*y2>0:\n",
    "        print(\"no root exists within given interval\")\n",
    "    else:\n",
    "        for ipos in range(1,ilimit+1):\n",
    "            xh=x2-(((x2-x1)/(y2-y1)) * y2)\n",
    "            yh=fn(xh)\n",
    "            if abs(yh)<tol:\n",
    "                break\n",
    "            elif y1*yh<0:\n",
    "                \n",
    "                x2=xh\n",
    "                y2=yh\n",
    "            else:\n",
    "                x1=xh\n",
    "                y1=yh\n",
    "    return xh,ipos\n",
    "\n",
    "\n",
    "def y(x):\n",
    "    return 2*x**2-5*x+3\n",
    "x1=float(input(\"Enter value of x1:\"))\n",
    "x2=float(input(\"Enter value of x2:\"))\n",
    "\n",
    "x,n=rfalsi(y,x1,x2,0.0000001)\n",
    "\n",
    "print(f\"The root: {x:.5f}\")\n",
    "print(f\"The number of computed false positions: {n:d}\")"
   ]
  },
  {
   "cell_type": "code",
   "execution_count": null,
   "id": "9cac088f",
   "metadata": {},
   "outputs": [],
   "source": []
  }
 ],
 "metadata": {
  "kernelspec": {
   "display_name": "Python 3 (ipykernel)",
   "language": "python",
   "name": "python3"
  },
  "language_info": {
   "codemirror_mode": {
    "name": "ipython",
    "version": 3
   },
   "file_extension": ".py",
   "mimetype": "text/x-python",
   "name": "python",
   "nbconvert_exporter": "python",
   "pygments_lexer": "ipython3",
   "version": "3.10.7"
  }
 },
 "nbformat": 4,
 "nbformat_minor": 5
}
