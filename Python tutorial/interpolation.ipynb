{
 "cells": [
  {
   "cell_type": "code",
   "execution_count": 14,
   "id": "a3988238",
   "metadata": {},
   "outputs": [
    {
     "name": "stdout",
     "output_type": "stream",
     "text": [
      "    0.1000000E+00  0.1530000E-01  0.0000000E+00  0.1440593E+02  0.9144884E-02\n",
      "0             0.2         0.0306            0.0       28.82485       0.023379\n",
      "1             0.3         0.0459            0.0       43.25850       0.078662\n",
      "2             0.4         0.0612            0.0       57.72158       0.210777\n",
      "3             0.5         0.0765            0.0       72.22992       0.450865\n",
      "4             0.6         0.0918            0.0       86.79888       0.826295\n",
      "5             0.7         0.1071            0.0      101.44300       1.361701\n",
      "6             0.8         0.1224            0.0      116.17610       2.079828\n",
      "7             0.9         0.1377            0.0      131.01070       2.982570\n",
      "8             1.0         0.1530            0.0      145.95520       4.071267\n",
      "9             1.1         0.1683            0.0      161.01930       5.379678\n",
      "10            1.2         0.1836            0.0      176.21300       6.931168\n",
      "11            1.3         0.1989            0.0      191.54680       8.747666\n",
      "12            1.4         0.2142            0.0      207.03110      10.850650\n",
      "13            1.5         0.2295            0.0      222.67630      13.261330\n",
      "14            1.6         0.2448            0.0      238.49290      16.000590\n",
      "15            1.7         0.2601            0.0      254.49140      19.088860\n",
      "16            1.8         0.2754            0.0      270.68230      22.545890\n",
      "17            1.9         0.2907            0.0      287.07580      26.390530\n",
      "18            2.0         0.3060            0.0      303.68210      30.640470\n",
      "19            2.1         0.3213            0.0      320.51130      35.312050\n",
      "20            2.2         0.3366            0.0      337.57330      40.419980\n",
      "21            2.3         0.3519            0.0      354.87060      45.358910\n",
      "22            2.4         0.3672            0.0      372.36500      49.694390\n",
      "23            2.5         0.3825            0.0      390.04020      54.060750\n",
      "24            2.6         0.3978            0.0      407.89240      58.552790\n",
      "25            2.7         0.4131            0.0      425.92040      63.208530\n",
      "26            2.8         0.4284            0.0      444.12430      68.048600\n",
      "27            2.9         0.4437            0.0      462.50450      73.085930\n",
      "28            3.0         0.4590            0.0      481.06190      78.329370\n",
      "29            3.1         0.4743            0.0      499.79760      83.785330\n",
      "30            3.2         0.4896            0.0      518.71280      89.458650\n",
      "31            3.3         0.5049            0.0      537.80870      95.353030\n",
      "32            3.4         0.5202            0.0      557.08670     101.471400\n",
      "33            3.5         0.5355            0.0      576.54790     107.816100\n",
      "34            3.6         0.5508            0.0      596.19360     114.388800\n",
      "35            3.7         0.5661            0.0      616.02510     121.191100\n",
      "36            3.8         0.5814            0.0      636.04350     128.224000\n",
      "37            3.9         0.5967            0.0      656.25000     135.488400\n",
      "38            4.0         0.6120            0.0      676.64580     142.984900\n",
      "39            4.1         0.6273            0.0      697.23190     150.714000\n"
     ]
    }
   ],
   "source": [
    "import pandas as pd\n",
    "import matplotlib.pyplot as plt\n",
    "pd.set_option('display.max_rows', None)\n",
    "pd.set_option('display.max_columns', None)\n",
    "\n",
    "# Step 1: Read the DAT file\n",
    "\n",
    "# Assuming the file is tab-separated, change the delimiter if it's different\n",
    "#data = pd.read_csv(\"D:\\\\DEBADES SIR;S PAPERS\\\\FORTRAN TOV Code\\\\aghto300m0.7.dat\")\n",
    "data = pd.read_csv(\"C:\\\\Users\\\\User\\\\Downloads\\\\new.csv\")\n",
    "\n",
    "df=pd.DataFrame(data)\n",
    "print(df)\n",
    "\n",
    "\n",
    "\n",
    "\n"
   ]
  },
  {
   "cell_type": "code",
   "execution_count": 6,
   "id": "40ce7946",
   "metadata": {},
   "outputs": [
    {
     "name": "stdout",
     "output_type": "stream",
     "text": [
      "Enter value of x:50\n",
      "For x=50.0, y=66.9\n"
     ]
    }
   ],
   "source": [
    "x=[0,20,40,60,80,100]\n",
    "y=[26.0,48.6,61.6,71.2,74.8,75.2]\n",
    "\n",
    "m=len(x)\n",
    "n=m-1\n",
    "\n",
    "yp=0\n",
    "xp=float(input(\"Enter value of x:\"))\n",
    "\n",
    "for i in range(n+1):\n",
    "    L=1\n",
    "    for j in range(n+1):\n",
    "        if j!=i:\n",
    "            L*=(xp-x[j])/(x[i]-x[j])\n",
    "    yp+=y[i]*L\n",
    "\n",
    "print(\"For x=%.1f, y=%.1f\" % (xp,yp))"
   ]
  },
  {
   "cell_type": "code",
   "execution_count": 2,
   "id": "65aec787",
   "metadata": {},
   "outputs": [
    {
     "name": "stdout",
     "output_type": "stream",
     "text": [
      "48.6\n",
      "66.4\n"
     ]
    }
   ],
   "source": [
    "from scipy.interpolate import interp1d,lagrange\n",
    "x=[0,20,40,60,80,100]\n",
    "y=[26.0,48.6,61.6,71.2,74.8,75.2]\n",
    "\n",
    "f=interp1d(x,y)\n",
    "\n",
    "print(f(20))\n",
    "print(f(50))\n",
    "\n"
   ]
  },
  {
   "cell_type": "code",
   "execution_count": 3,
   "id": "b735468a",
   "metadata": {},
   "outputs": [
    {
     "name": "stdout",
     "output_type": "stream",
     "text": [
      "66.95208333333332\n"
     ]
    }
   ],
   "source": [
    "f=interp1d(x,y,\"quadratic\")\n",
    "print(f(50))"
   ]
  },
  {
   "cell_type": "code",
   "execution_count": 4,
   "id": "d6a6b166",
   "metadata": {},
   "outputs": [
    {
     "name": "stdout",
     "output_type": "stream",
     "text": [
      "66.945\n"
     ]
    }
   ],
   "source": [
    "f1=interp1d(x,y,\"cubic\")\n",
    "print(f1(50))"
   ]
  },
  {
   "cell_type": "code",
   "execution_count": 5,
   "id": "6d93a15a",
   "metadata": {},
   "outputs": [
    {
     "name": "stdout",
     "output_type": "stream",
     "text": [
      "           5             4             3           2\n",
      "3.698e-08 x - 9.688e-06 x + 0.0009219 x - 0.04463 x + 1.725 x + 26\n"
     ]
    }
   ],
   "source": [
    "L=lagrange(x,y)\n",
    "print(L)"
   ]
  },
  {
   "cell_type": "code",
   "execution_count": 6,
   "id": "1852afde",
   "metadata": {},
   "outputs": [
    {
     "data": {
      "text/plain": [
       "66.94765624999957"
      ]
     },
     "execution_count": 6,
     "metadata": {},
     "output_type": "execute_result"
    }
   ],
   "source": [
    "L(50)"
   ]
  },
  {
   "cell_type": "code",
   "execution_count": 9,
   "id": "71bc2092",
   "metadata": {},
   "outputs": [
    {
     "name": "stdout",
     "output_type": "stream",
     "text": [
      "Given x value is out of range\n",
      "Given x value is out of range\n",
      "Given x value is out of range\n",
      "the temperature = 66.400000\n"
     ]
    }
   ],
   "source": [
    "time=[0,20,40,60,80,100]\n",
    "temp=[26.0,48.6,61.6,71.2,74.8,75.2]\n",
    "\n",
    "def y(xp,x,y):\n",
    "    for i,xi in enumerate(x):\n",
    "        if xp<xi:\n",
    "            return y[i-1]+((y[i]-y[i-1])/(x[i]-x[i-1])*(xp-x[i-1]))\n",
    "        else:\n",
    "            print(\"Given x value is out of range\")\n",
    "            \n",
    "temp50=y(50,time,temp)\n",
    "print(\"the temperature = %f\" % temp50)"
   ]
  },
  {
   "cell_type": "code",
   "execution_count": null,
   "id": "28f2c13e",
   "metadata": {},
   "outputs": [],
   "source": []
  }
 ],
 "metadata": {
  "kernelspec": {
   "display_name": "Python 3 (ipykernel)",
   "language": "python",
   "name": "python3"
  },
  "language_info": {
   "codemirror_mode": {
    "name": "ipython",
    "version": 3
   },
   "file_extension": ".py",
   "mimetype": "text/x-python",
   "name": "python",
   "nbconvert_exporter": "python",
   "pygments_lexer": "ipython3",
   "version": "3.10.7"
  }
 },
 "nbformat": 4,
 "nbformat_minor": 5
}
